{
 "cells": [
  {
   "cell_type": "code",
   "execution_count": null,
   "metadata": {
    "scrolled": true
   },
   "outputs": [],
   "source": [
    "import tweepy\n",
    "import csv\n",
    "import time\n",
    "import datetime\n",
    "\n",
    "consumer_key = \"\"\n",
    "consumer_secret = \"\"\n",
    "access_token = \"\"\n",
    "access_token_secret = \"\"\n",
    "\n",
    "auth = tweepy.OAuthHandler(consumer_key, consumer_secret)\n",
    "auth.set_access_token(access_token, access_token_secret)\n",
    "\n",
    "api = tweepy.API(auth, wait_on_rate_limit=True,wait_on_rate_limit_notify=True) #params will delay pull if rate exceeded\n",
    "\n",
    "def pull_tweets(keywords, filename, day_since, day_until, stoppage=\"\"):\n",
    "    print(\"{} Started\".format(datetime.datetime.now().strftime(\"%H:%M\")))\n",
    "    \n",
    "    keywords = \" OR \".join(keywords) #transform input list of keywords to required format\n",
    "    print(\"Keywords selected: {}\".format(keywords))\n",
    "    search_query = keywords\n",
    "    params_api = {\n",
    "        \"method\":api.search,\n",
    "        \"q\":search_query,\n",
    "        \"count\":100, #max for standard licensing\n",
    "        \"lang\":\"en\",\n",
    "        \"since\": day_since, #if kernel dies or api gets banned can use \"max_id\" param instead to resume where it was let off\n",
    "        \"until\": day_until,\n",
    "        \"result_Type\":\"recent\", #pull tweets from most recent from the day specified in until param\n",
    "        \"include_entities\":True\n",
    "    }\n",
    "    messages = []\n",
    "    tweets_count = 0\n",
    "\n",
    "    with open(filename, 'a') as csv_file:\n",
    "        for tweet in tweepy.Cursor(**params_api).items():\n",
    "            tweets_count += 1\n",
    "            if str(tweet.created_at) == stoppage: #breaks the loop at a given time since we can not specify hours\n",
    "                break\n",
    "            if tweet.id_str not in messages:\n",
    "                messages.append(tweet.id_str)\n",
    "                print(\"Tweets recorded: {}. Last tweet date: {}.\".format(tweets_count,tweet.created_at))\n",
    "                csv.writer(csv_file).writerow([tweet.id_str, tweet.created_at, tweet.user.location, tweet.text])\n",
    "                time.sleep(0.023) #if pulling tweets too fast API gets banned, using built-in delay and wait_on_rate_limit param\n",
    "    print(\"{} Finished\".format(datetime.datetime.now().strftime(\"%H:%M\")))"
   ]
  },
  {
   "cell_type": "code",
   "execution_count": null,
   "metadata": {
    "scrolled": true
   },
   "outputs": [],
   "source": [
    "matches = {\n",
    "    \"FRAURU\": [[\"#URUFRA\", \"#FRAURU\"], \"tweets-FRA-vs-URU.csv\", \"2018-07-06\", \"2018-07-07\", \"2018-07-06 13:59:59\"],\n",
    "    \"BELBRA\": [[\"#BELBRA\", \"#BRABEL\"], \"tweets-BEL-vs-BRA.csv\", \"2018-07-06\", \"2018-07-07\", \"2018-07-06 17:59:59\"],\n",
    "    \"ENGSWE\": [[\"#ENGSWE\", \"#SWEENG\"], \"tweets-ENG-vs-SWE.csv\", \"2018-07-07\", \"2018-07-08\", \"2018-07-07 13:59:59\"],\n",
    "    \"CRORUS\": [[\"#CRORUS\", \"#RUSCRO\"], \"tweets-CRO-vs-RUS.csv\", \"2018-07-07\", \"2018-07-08\", \"2018-07-07 17:59:59\"],\n",
    "    \"FRABEL\": [[\"#FRABEL\", \"#BELFRA\"], \"tweets-FRA-vs-BEL.csv\", \"2018-07-10\", \"2018-07-11\", \"2018-07-10 17:59:59\"],\n",
    "    \"ENGCRO\": [[\"#CROENG\", \"#ENGCRO\"], \"tweets-ENG-vs-CRO.csv\", \"2018-07-11\", \"2018-07-12\", \"2018-07-11 17:59:59\"]\n",
    "    }\n",
    "\n",
    "pull_tweets([\"#ENGSWE\", \"#SWEENG\"], \"tweets-ENG-vs-SWE.csv\", \"2018-07-07\", \"2018-07-08\", stoppage=\"2018-07-07 13:59:59\")"
   ]
  }
 ],
 "metadata": {
  "kernelspec": {
   "display_name": "Python 3",
   "language": "python",
   "name": "python3"
  },
  "language_info": {
   "codemirror_mode": {
    "name": "ipython",
    "version": 3
   },
   "file_extension": ".py",
   "mimetype": "text/x-python",
   "name": "python",
   "nbconvert_exporter": "python",
   "pygments_lexer": "ipython3",
   "version": "3.6.4"
  }
 },
 "nbformat": 4,
 "nbformat_minor": 2
}
