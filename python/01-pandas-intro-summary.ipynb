{
 "cells": [
  {
   "cell_type": "markdown",
   "metadata": {},
   "source": [
    "# Pandas\n",
    "\n",
    "13/04/18\n",
    "Summary of first class in Pandas\n",
    "-  Series\n",
    "-  Dataframes\n",
    "-  Slicing and indexing\n",
    "-  Exploratory commands\n",
    "-  Sorting and ranking\n",
    "-  Missing data"
   ]
  },
  {
   "cell_type": "markdown",
   "metadata": {},
   "source": [
    "### Series"
   ]
  },
  {
   "cell_type": "code",
   "execution_count": 1,
   "metadata": {},
   "outputs": [],
   "source": [
    "import pandas as pd\n",
    "import numpy as np"
   ]
  },
  {
   "cell_type": "code",
   "execution_count": 2,
   "metadata": {},
   "outputs": [
    {
     "data": {
      "text/plain": [
       "0     1\n",
       "1     2\n",
       "2     3\n",
       "3     4\n",
       "4     5\n",
       "5     6\n",
       "6     7\n",
       "7     8\n",
       "8     9\n",
       "9    10\n",
       "dtype: int64"
      ]
     },
     "execution_count": 2,
     "metadata": {},
     "output_type": "execute_result"
    }
   ],
   "source": [
    "serie = pd.Series([1,2,3,4,5,6,7,8,9,10])\n",
    "serie"
   ]
  },
  {
   "cell_type": "code",
   "execution_count": 3,
   "metadata": {},
   "outputs": [
    {
     "name": "stdout",
     "output_type": "stream",
     "text": [
      "[ 1  2  3  4  5  6  7  8  9 10]\n",
      "RangeIndex(start=0, stop=10, step=1)\n",
      "Index(['a', 'b', 'c'], dtype='object')\n"
     ]
    },
    {
     "data": {
      "text/plain": [
       "a    1\n",
       "b    2\n",
       "c    3\n",
       "dtype: int64"
      ]
     },
     "execution_count": 3,
     "metadata": {},
     "output_type": "execute_result"
    }
   ],
   "source": [
    "print(serie.values)\n",
    "print(serie.index)  #index is automatically created\n",
    "serie_with_index = pd.Series([1,2,3],index=list(\"abc\")) #index is specified\n",
    "print(serie_with_index.index)\n",
    "serie_with_index"
   ]
  },
  {
   "cell_type": "markdown",
   "metadata": {},
   "source": [
    "Some operations we can perform on indexes, these are similar as in np"
   ]
  },
  {
   "cell_type": "code",
   "execution_count": 4,
   "metadata": {},
   "outputs": [
    {
     "data": {
      "text/plain": [
       "3"
      ]
     },
     "execution_count": 4,
     "metadata": {},
     "output_type": "execute_result"
    }
   ],
   "source": [
    "serie[2] #indexing using the index labels"
   ]
  },
  {
   "cell_type": "code",
   "execution_count": 5,
   "metadata": {},
   "outputs": [
    {
     "data": {
      "text/plain": [
       "0    False\n",
       "1     True\n",
       "2    False\n",
       "3     True\n",
       "4    False\n",
       "5     True\n",
       "6    False\n",
       "7     True\n",
       "8    False\n",
       "9     True\n",
       "dtype: bool"
      ]
     },
     "execution_count": 5,
     "metadata": {},
     "output_type": "execute_result"
    }
   ],
   "source": [
    "serie % 2 == 0  #will return booleans"
   ]
  },
  {
   "cell_type": "code",
   "execution_count": 6,
   "metadata": {},
   "outputs": [
    {
     "data": {
      "text/plain": [
       "1     2\n",
       "3     4\n",
       "5     6\n",
       "7     8\n",
       "9    10\n",
       "dtype: int64"
      ]
     },
     "execution_count": 6,
     "metadata": {},
     "output_type": "execute_result"
    }
   ],
   "source": [
    "serie[serie % 2 == 0 ] #will filter the series depending on the outcome of the conditional expression"
   ]
  },
  {
   "cell_type": "code",
   "execution_count": 7,
   "metadata": {},
   "outputs": [
    {
     "data": {
      "text/plain": [
       "0     2\n",
       "1     4\n",
       "2     6\n",
       "3     8\n",
       "4    10\n",
       "5    12\n",
       "6    14\n",
       "7    16\n",
       "8    18\n",
       "9    20\n",
       "dtype: int64"
      ]
     },
     "execution_count": 7,
     "metadata": {},
     "output_type": "execute_result"
    }
   ],
   "source": [
    "serie*2  #we can perfom operations on all values"
   ]
  },
  {
   "cell_type": "code",
   "execution_count": 8,
   "metadata": {},
   "outputs": [
    {
     "name": "stdout",
     "output_type": "stream",
     "text": [
      "True\n",
      "False\n",
      "True\n"
     ]
    }
   ],
   "source": [
    "print(0 in serie) #will return True because 0 is in the index\n",
    "print(10 in serie) #will return False because 10 is not in the index\n",
    "print(10 in serie.values) #will return True becasue 10 is in the values"
   ]
  },
  {
   "cell_type": "code",
   "execution_count": 9,
   "metadata": {},
   "outputs": [
    {
     "data": {
      "text/plain": [
       "afaw    [fqjjqw, jajsf]\n",
       "fj           jfajsjdasd\n",
       "qfj            jfjwjjwf\n",
       "dtype: object"
      ]
     },
     "execution_count": 9,
     "metadata": {},
     "output_type": "execute_result"
    }
   ],
   "source": [
    "random_dict = {\"afaw\": [\"fqjjqw\",\"jajsf\"], \"qfj\": \"jfjwjjwf\", \"fj\": \"jfajsjdasd\"} #we can create a series from a dictionary\n",
    "series_dict = pd.Series(random_dict)\n",
    "series_dict"
   ]
  },
  {
   "cell_type": "code",
   "execution_count": null,
   "metadata": {},
   "outputs": [],
   "source": [
    "series_dict.name = \"random_dictionary\"\n",
    "series_dict.index.name = \"random_index_labels\"\n",
    "series_dict"
   ]
  },
  {
   "cell_type": "markdown",
   "metadata": {},
   "source": [
    "### DataFrames"
   ]
  },
  {
   "cell_type": "code",
   "execution_count": 10,
   "metadata": {
    "scrolled": true
   },
   "outputs": [
    {
     "data": {
      "text/html": [
       "<div>\n",
       "<style scoped>\n",
       "    .dataframe tbody tr th:only-of-type {\n",
       "        vertical-align: middle;\n",
       "    }\n",
       "\n",
       "    .dataframe tbody tr th {\n",
       "        vertical-align: top;\n",
       "    }\n",
       "\n",
       "    .dataframe thead th {\n",
       "        text-align: right;\n",
       "    }\n",
       "</style>\n",
       "<table border=\"1\" class=\"dataframe\">\n",
       "  <thead>\n",
       "    <tr style=\"text-align: right;\">\n",
       "      <th></th>\n",
       "      <th>population</th>\n",
       "      <th>province</th>\n",
       "      <th>year</th>\n",
       "    </tr>\n",
       "  </thead>\n",
       "  <tbody>\n",
       "    <tr>\n",
       "      <th>0</th>\n",
       "      <td>1500000.0</td>\n",
       "      <td>M</td>\n",
       "      <td>1900</td>\n",
       "    </tr>\n",
       "    <tr>\n",
       "      <th>1</th>\n",
       "      <td>2000000.0</td>\n",
       "      <td>M</td>\n",
       "      <td>1950</td>\n",
       "    </tr>\n",
       "    <tr>\n",
       "      <th>2</th>\n",
       "      <td>3000000.0</td>\n",
       "      <td>M</td>\n",
       "      <td>2000</td>\n",
       "    </tr>\n",
       "    <tr>\n",
       "      <th>3</th>\n",
       "      <td>500000.0</td>\n",
       "      <td>B</td>\n",
       "      <td>1900</td>\n",
       "    </tr>\n",
       "    <tr>\n",
       "      <th>4</th>\n",
       "      <td>1500000.0</td>\n",
       "      <td>B</td>\n",
       "      <td>2000</td>\n",
       "    </tr>\n",
       "  </tbody>\n",
       "</table>\n",
       "</div>"
      ],
      "text/plain": [
       "   population province  year\n",
       "0   1500000.0        M  1900\n",
       "1   2000000.0        M  1950\n",
       "2   3000000.0        M  2000\n",
       "3    500000.0        B  1900\n",
       "4   1500000.0        B  2000"
      ]
     },
     "execution_count": 10,
     "metadata": {},
     "output_type": "execute_result"
    }
   ],
   "source": [
    "dfdata = {\n",
    "    'province' : ['M', 'M', 'M', 'B', 'B'],\n",
    "    'population': [1.5e6, 2e6, 3e6, 5e5, 1.5e6],\n",
    "    'year' : [1900, 1950, 2000, 1900, 2000]   \n",
    "}\n",
    "\n",
    "df1 = pd.DataFrame(dfdata) #we can also create a dataframe from a dictionary, all arrays must be the same lenght\n",
    "df1"
   ]
  },
  {
   "cell_type": "code",
   "execution_count": 11,
   "metadata": {},
   "outputs": [
    {
     "name": "stdout",
     "output_type": "stream",
     "text": [
      "Index(['population', 'province', 'year'], dtype='object')\n",
      "RangeIndex(start=0, stop=5, step=1)\n"
     ]
    }
   ],
   "source": [
    "print(df1.columns) #the keys from the dict will be the columns by default\n",
    "print(df1.index) #numeric index by default"
   ]
  },
  {
   "cell_type": "code",
   "execution_count": 12,
   "metadata": {},
   "outputs": [
    {
     "data": {
      "text/html": [
       "<div>\n",
       "<style scoped>\n",
       "    .dataframe tbody tr th:only-of-type {\n",
       "        vertical-align: middle;\n",
       "    }\n",
       "\n",
       "    .dataframe tbody tr th {\n",
       "        vertical-align: top;\n",
       "    }\n",
       "\n",
       "    .dataframe thead th {\n",
       "        text-align: right;\n",
       "    }\n",
       "</style>\n",
       "<table border=\"1\" class=\"dataframe\">\n",
       "  <thead>\n",
       "    <tr style=\"text-align: right;\">\n",
       "      <th></th>\n",
       "      <th>pop</th>\n",
       "      <th>prv</th>\n",
       "      <th>yr</th>\n",
       "    </tr>\n",
       "  </thead>\n",
       "  <tbody>\n",
       "    <tr>\n",
       "      <th>a</th>\n",
       "      <td>1500000.0</td>\n",
       "      <td>M</td>\n",
       "      <td>1900</td>\n",
       "    </tr>\n",
       "    <tr>\n",
       "      <th>b</th>\n",
       "      <td>2000000.0</td>\n",
       "      <td>M</td>\n",
       "      <td>1950</td>\n",
       "    </tr>\n",
       "    <tr>\n",
       "      <th>c</th>\n",
       "      <td>3000000.0</td>\n",
       "      <td>M</td>\n",
       "      <td>2000</td>\n",
       "    </tr>\n",
       "    <tr>\n",
       "      <th>d</th>\n",
       "      <td>500000.0</td>\n",
       "      <td>B</td>\n",
       "      <td>1900</td>\n",
       "    </tr>\n",
       "    <tr>\n",
       "      <th>e</th>\n",
       "      <td>1500000.0</td>\n",
       "      <td>B</td>\n",
       "      <td>2000</td>\n",
       "    </tr>\n",
       "  </tbody>\n",
       "</table>\n",
       "</div>"
      ],
      "text/plain": [
       "         pop prv    yr\n",
       "a  1500000.0   M  1900\n",
       "b  2000000.0   M  1950\n",
       "c  3000000.0   M  2000\n",
       "d   500000.0   B  1900\n",
       "e  1500000.0   B  2000"
      ]
     },
     "execution_count": 12,
     "metadata": {},
     "output_type": "execute_result"
    }
   ],
   "source": [
    "df1.columns = [\"pop\", \"prv\", \"yr\"] #we can use the same column and index functions to replace them, however they are inmutable, cant be changed\n",
    "df1.index = list(\"abcde\")\n",
    "df1"
   ]
  },
  {
   "cell_type": "code",
   "execution_count": 14,
   "metadata": {},
   "outputs": [
    {
     "name": "stdout",
     "output_type": "stream",
     "text": [
      "<bound method DataFrame.iteritems of          pop prv    yr\n",
      "a  1500000.0   M  1900\n",
      "b  2000000.0   M  1950\n",
      "c  3000000.0   M  2000\n",
      "d   500000.0   B  1900\n",
      "e  1500000.0   B  2000>\n",
      "Index(['pop', 'prv', 'yr'], dtype='object')\n",
      "[[1500000.0 'M' 1900]\n",
      " [2000000.0 'M' 1950]\n",
      " [3000000.0 'M' 2000]\n",
      " [500000.0 'B' 1900]\n",
      " [1500000.0 'B' 2000]]\n"
     ]
    }
   ],
   "source": [
    "print(df1.items) #dict\n",
    "print(df1.keys()) #column names\n",
    "print(df1.values) #values"
   ]
  },
  {
   "cell_type": "code",
   "execution_count": 15,
   "metadata": {},
   "outputs": [
    {
     "data": {
      "text/plain": [
       "a    1500000.0\n",
       "b    2000000.0\n",
       "c    3000000.0\n",
       "d     500000.0\n",
       "e    1500000.0\n",
       "Name: pop, dtype: float64"
      ]
     },
     "execution_count": 15,
     "metadata": {},
     "output_type": "execute_result"
    }
   ],
   "source": [
    "df1[\"pop\"] #to scl"
   ]
  },
  {
   "cell_type": "code",
   "execution_count": 16,
   "metadata": {},
   "outputs": [
    {
     "data": {
      "text/html": [
       "<div>\n",
       "<style scoped>\n",
       "    .dataframe tbody tr th:only-of-type {\n",
       "        vertical-align: middle;\n",
       "    }\n",
       "\n",
       "    .dataframe tbody tr th {\n",
       "        vertical-align: top;\n",
       "    }\n",
       "\n",
       "    .dataframe thead th {\n",
       "        text-align: right;\n",
       "    }\n",
       "</style>\n",
       "<table border=\"1\" class=\"dataframe\">\n",
       "  <thead>\n",
       "    <tr style=\"text-align: right;\">\n",
       "      <th></th>\n",
       "      <th>pop</th>\n",
       "      <th>prv</th>\n",
       "    </tr>\n",
       "  </thead>\n",
       "  <tbody>\n",
       "    <tr>\n",
       "      <th>a</th>\n",
       "      <td>1500000.0</td>\n",
       "      <td>M</td>\n",
       "    </tr>\n",
       "    <tr>\n",
       "      <th>b</th>\n",
       "      <td>2000000.0</td>\n",
       "      <td>M</td>\n",
       "    </tr>\n",
       "    <tr>\n",
       "      <th>c</th>\n",
       "      <td>3000000.0</td>\n",
       "      <td>M</td>\n",
       "    </tr>\n",
       "    <tr>\n",
       "      <th>d</th>\n",
       "      <td>500000.0</td>\n",
       "      <td>B</td>\n",
       "    </tr>\n",
       "    <tr>\n",
       "      <th>e</th>\n",
       "      <td>1500000.0</td>\n",
       "      <td>B</td>\n",
       "    </tr>\n",
       "  </tbody>\n",
       "</table>\n",
       "</div>"
      ],
      "text/plain": [
       "         pop prv\n",
       "a  1500000.0   M\n",
       "b  2000000.0   M\n",
       "c  3000000.0   M\n",
       "d   500000.0   B\n",
       "e  1500000.0   B"
      ]
     },
     "execution_count": 16,
     "metadata": {},
     "output_type": "execute_result"
    }
   ],
   "source": [
    "df1[[\"pop\", \"prv\"]] #only works with double brackets"
   ]
  },
  {
   "cell_type": "code",
   "execution_count": 17,
   "metadata": {},
   "outputs": [
    {
     "name": "stdout",
     "output_type": "stream",
     "text": [
      "         pop prv    yr\n",
      "b  2000000.0   M  1950\n",
      "c  3000000.0   M  2000\n",
      "         pop prv    yr\n",
      "b  2000000.0   M  1950\n",
      "c  3000000.0   M  2000\n",
      "         pop prv    yr\n",
      "d   500000.0   B  1900\n",
      "e  1500000.0   B  2000\n",
      "     yr\n",
      "b  1950\n",
      "c  2000\n"
     ]
    }
   ],
   "source": [
    "print(df1[1:3]) #uses a numerical positional reference\n",
    "print(df1.iloc[1:3]) # same as before\n",
    "print(df1.loc[\"d\":]) #loc uses the index labels\n",
    "print(df1.iloc[1:3,2:]) #we can also slice rows and columns at the same time"
   ]
  },
  {
   "cell_type": "code",
   "execution_count": 18,
   "metadata": {},
   "outputs": [
    {
     "name": "stdout",
     "output_type": "stream",
     "text": [
      "a    False\n",
      "b     True\n",
      "c     True\n",
      "d    False\n",
      "e    False\n",
      "Name: pop, dtype: bool\n",
      "     pop   prv     yr\n",
      "a  False  True  False\n",
      "b   True  True  False\n",
      "c   True  True  False\n",
      "d  False  True  False\n",
      "e  False  True  False\n",
      "         pop prv    yr\n",
      "b  2000000.0   M  1950\n",
      "c  3000000.0   M  2000\n",
      "         pop prv    yr\n",
      "c  3000000.0   M  2000\n"
     ]
    }
   ],
   "source": [
    "print(df1[\"pop\"] > 1500000) # conditional expression returning booleans\n",
    "print(df1 > 1500000)\n",
    "print(df1[df1[\"pop\"] > 1500000]) # we can then use the expression to return values\n",
    "print(df1[(df1[\"pop\"] > 1500000) & (df1[\"yr\"] > 1976)]) # can use operators such as & (and), | (or), ~ (opposite)"
   ]
  },
  {
   "cell_type": "code",
   "execution_count": 19,
   "metadata": {},
   "outputs": [
    {
     "name": "stdout",
     "output_type": "stream",
     "text": [
      "         pop prv    yr new_col\n",
      "a  1500000.0   M  1900     NEW\n",
      "b  2000000.0   M  1950     NEW\n",
      "c  3000000.0   M  2000     NEW\n",
      "d   500000.0   B  1900     NEW\n",
      "e  1500000.0   B  2000     NEW\n",
      "         pop prv    yr new_col\n",
      "a  1500000.0   M  1900       Y\n",
      "b  2000000.0   M  1950       N\n",
      "c  3000000.0   M  2000       Y\n",
      "d   500000.0   B  1900       Y\n",
      "e  1500000.0   B  2000       N\n"
     ]
    }
   ],
   "source": [
    "df1[\"new_col\"] = \"NEW\" #to create a new column\n",
    "print(df1)\n",
    "df1[\"new_col\"] = [\"Y\",\"N\",\"Y\",\"Y\",\"N\"] #to introduce values\n",
    "print(df1)"
   ]
  },
  {
   "cell_type": "code",
   "execution_count": 20,
   "metadata": {},
   "outputs": [
    {
     "data": {
      "text/html": [
       "<div>\n",
       "<style scoped>\n",
       "    .dataframe tbody tr th:only-of-type {\n",
       "        vertical-align: middle;\n",
       "    }\n",
       "\n",
       "    .dataframe tbody tr th {\n",
       "        vertical-align: top;\n",
       "    }\n",
       "\n",
       "    .dataframe thead th {\n",
       "        text-align: right;\n",
       "    }\n",
       "</style>\n",
       "<table border=\"1\" class=\"dataframe\">\n",
       "  <thead>\n",
       "    <tr style=\"text-align: right;\">\n",
       "      <th></th>\n",
       "      <th>a</th>\n",
       "      <th>b</th>\n",
       "      <th>c</th>\n",
       "      <th>d</th>\n",
       "      <th>e</th>\n",
       "    </tr>\n",
       "  </thead>\n",
       "  <tbody>\n",
       "    <tr>\n",
       "      <th>pop</th>\n",
       "      <td>1.5e+06</td>\n",
       "      <td>2e+06</td>\n",
       "      <td>3e+06</td>\n",
       "      <td>500000</td>\n",
       "      <td>1.5e+06</td>\n",
       "    </tr>\n",
       "    <tr>\n",
       "      <th>prv</th>\n",
       "      <td>M</td>\n",
       "      <td>M</td>\n",
       "      <td>M</td>\n",
       "      <td>B</td>\n",
       "      <td>B</td>\n",
       "    </tr>\n",
       "    <tr>\n",
       "      <th>yr</th>\n",
       "      <td>1900</td>\n",
       "      <td>1950</td>\n",
       "      <td>2000</td>\n",
       "      <td>1900</td>\n",
       "      <td>2000</td>\n",
       "    </tr>\n",
       "    <tr>\n",
       "      <th>new_col</th>\n",
       "      <td>Y</td>\n",
       "      <td>N</td>\n",
       "      <td>Y</td>\n",
       "      <td>Y</td>\n",
       "      <td>N</td>\n",
       "    </tr>\n",
       "  </tbody>\n",
       "</table>\n",
       "</div>"
      ],
      "text/plain": [
       "               a      b      c       d        e\n",
       "pop      1.5e+06  2e+06  3e+06  500000  1.5e+06\n",
       "prv            M      M      M       B        B\n",
       "yr          1900   1950   2000    1900     2000\n",
       "new_col        Y      N      Y       Y        N"
      ]
     },
     "execution_count": 20,
     "metadata": {},
     "output_type": "execute_result"
    }
   ],
   "source": [
    "df1.T  #transposes df"
   ]
  },
  {
   "cell_type": "code",
   "execution_count": 21,
   "metadata": {},
   "outputs": [
    {
     "name": "stdout",
     "output_type": "stream",
     "text": [
      "         pop prv    yr new_col\n",
      "c  3000000.0   M  2000       Y\n",
      "d   500000.0   B  1900       Y\n",
      "e  1500000.0   B  2000       N\n",
      "  prv new_col\n",
      "a   M       Y\n",
      "b   M       N\n",
      "c   M       Y\n",
      "d   B       Y\n",
      "e   B       N\n"
     ]
    }
   ],
   "source": [
    "print(df1.drop(index=[\"a\",\"b\"])) #removes the rows a & b, inplace=False default\n",
    "print(df1.drop(columns=[\"pop\",\"yr\"]))"
   ]
  },
  {
   "cell_type": "code",
   "execution_count": 22,
   "metadata": {},
   "outputs": [
    {
     "name": "stdout",
     "output_type": "stream",
     "text": [
      "         pop prv    yr new_col\n",
      "a  1500000.0   M  1900       Y\n",
      "b  2000000.0   M  1950       N\n",
      "c  3000000.0   M  2000       Y\n",
      "d   500000.0   B  1900       Y\n",
      "e  1500000.0   B  2000       N\n",
      "   pop prv    yr new_col\n",
      "a  ???   M  1900       Y\n",
      "b  ???   M  1950       N\n",
      "c  ???   M  2000       Y\n",
      "d  ???   B  1900       Y\n",
      "e  ???   B  2000       N\n",
      "         pop prv    yr new_col\n",
      "a  1500000.0   M  1900       Y\n",
      "b  2000000.0   M  1950       N\n",
      "c  3000000.0   M  2000       Y\n",
      "d   500000.0   B  1900       Y\n",
      "e  1500000.0   B  2000       N\n"
     ]
    }
   ],
   "source": [
    "df2 = df1\n",
    "df3 = df1.copy()  #we need to use copy to make a real copy instead of copying the reference\n",
    "print(df2)\n",
    "df1[\"pop\"] = \"???\"\n",
    "print(df2)\n",
    "print(df3)"
   ]
  },
  {
   "cell_type": "code",
   "execution_count": 23,
   "metadata": {},
   "outputs": [
    {
     "data": {
      "text/html": [
       "<div>\n",
       "<style scoped>\n",
       "    .dataframe tbody tr th:only-of-type {\n",
       "        vertical-align: middle;\n",
       "    }\n",
       "\n",
       "    .dataframe tbody tr th {\n",
       "        vertical-align: top;\n",
       "    }\n",
       "\n",
       "    .dataframe thead th {\n",
       "        text-align: right;\n",
       "    }\n",
       "</style>\n",
       "<table border=\"1\" class=\"dataframe\">\n",
       "  <thead>\n",
       "    <tr style=\"text-align: right;\">\n",
       "      <th></th>\n",
       "      <th>b</th>\n",
       "      <th>d</th>\n",
       "      <th>e</th>\n",
       "    </tr>\n",
       "  </thead>\n",
       "  <tbody>\n",
       "    <tr>\n",
       "      <th>B</th>\n",
       "      <td>15.368067</td>\n",
       "      <td>36.240232</td>\n",
       "      <td>3.875989</td>\n",
       "    </tr>\n",
       "    <tr>\n",
       "      <th>M</th>\n",
       "      <td>62.749090</td>\n",
       "      <td>2.174994</td>\n",
       "      <td>12.385257</td>\n",
       "    </tr>\n",
       "    <tr>\n",
       "      <th>P</th>\n",
       "      <td>7.728180</td>\n",
       "      <td>6.420763</td>\n",
       "      <td>55.358633</td>\n",
       "    </tr>\n",
       "    <tr>\n",
       "      <th>Z</th>\n",
       "      <td>29.175079</td>\n",
       "      <td>0.194430</td>\n",
       "      <td>22.588693</td>\n",
       "    </tr>\n",
       "  </tbody>\n",
       "</table>\n",
       "</div>"
      ],
      "text/plain": [
       "           b          d          e\n",
       "B  15.368067  36.240232   3.875989\n",
       "M  62.749090   2.174994  12.385257\n",
       "P   7.728180   6.420763  55.358633\n",
       "Z  29.175079   0.194430  22.588693"
      ]
     },
     "execution_count": 23,
     "metadata": {},
     "output_type": "execute_result"
    }
   ],
   "source": [
    "df_random = pd.DataFrame(np.random.randn(4,3) * 17 + 15, columns=list('bde'), index=list('BMPZ'))\n",
    "df_random"
   ]
  },
  {
   "cell_type": "code",
   "execution_count": 24,
   "metadata": {},
   "outputs": [
    {
     "name": "stdout",
     "output_type": "stream",
     "text": [
      "b    55.020909\n",
      "d    36.045802\n",
      "e    51.482644\n",
      "dtype: float64\n",
      "B    32.364243\n",
      "M    60.574096\n",
      "P    48.937869\n",
      "Z    28.980649\n",
      "dtype: float64\n",
      "                       b                      d                      e\n",
      "B  15.368066731534462 mm    36.2402319636121 mm   3.875988523750923 mm\n",
      "M   62.74908971802465 mm  2.1749941916530986 mm  12.385257236071423 mm\n",
      "P   7.728180403996898 mm   6.420763338890222 mm   55.35863262572573 mm\n",
      "Z   29.17507942193945 mm  0.1944303013353359 mm    22.5886934580049 mm\n",
      "            b          d          e\n",
      "max  62.74909  36.240232  55.358633\n",
      "min   7.72818   0.194430   3.875989\n"
     ]
    }
   ],
   "source": [
    "print(df_random.apply(lambda x: x.max() -x.min()))  #takes a func as argument and passes the series as args\n",
    "print(df_random.apply(lambda x: x.max() -x.min(), axis=1)) #same but for rows\n",
    "print(df_random.applymap(lambda x: str(x)+\" mm\")) #iterates through every element of the df, similar to a map\n",
    "\n",
    "def f(series):\n",
    "    return pd.Series([series.max(), series.min()], index=['max', 'min'])\n",
    "print(df_random.apply(f))"
   ]
  },
  {
   "cell_type": "code",
   "execution_count": 25,
   "metadata": {},
   "outputs": [
    {
     "data": {
      "text/html": [
       "<div>\n",
       "<style scoped>\n",
       "    .dataframe tbody tr th:only-of-type {\n",
       "        vertical-align: middle;\n",
       "    }\n",
       "\n",
       "    .dataframe tbody tr th {\n",
       "        vertical-align: top;\n",
       "    }\n",
       "\n",
       "    .dataframe thead th {\n",
       "        text-align: right;\n",
       "    }\n",
       "</style>\n",
       "<table border=\"1\" class=\"dataframe\">\n",
       "  <thead>\n",
       "    <tr style=\"text-align: right;\">\n",
       "      <th></th>\n",
       "      <th>pop</th>\n",
       "      <th>prv</th>\n",
       "      <th>yr</th>\n",
       "      <th>new_col</th>\n",
       "    </tr>\n",
       "  </thead>\n",
       "  <tbody>\n",
       "    <tr>\n",
       "      <th>a</th>\n",
       "      <td>???</td>\n",
       "      <td>M</td>\n",
       "      <td>1900</td>\n",
       "      <td>Y</td>\n",
       "    </tr>\n",
       "    <tr>\n",
       "      <th>b</th>\n",
       "      <td>???</td>\n",
       "      <td>M</td>\n",
       "      <td>1950</td>\n",
       "      <td>N</td>\n",
       "    </tr>\n",
       "    <tr>\n",
       "      <th>c</th>\n",
       "      <td>???</td>\n",
       "      <td>M</td>\n",
       "      <td>2000</td>\n",
       "      <td>Y</td>\n",
       "    </tr>\n",
       "    <tr>\n",
       "      <th>d</th>\n",
       "      <td>???</td>\n",
       "      <td>B</td>\n",
       "      <td>1900</td>\n",
       "      <td>Y</td>\n",
       "    </tr>\n",
       "    <tr>\n",
       "      <th>e</th>\n",
       "      <td>???</td>\n",
       "      <td>B</td>\n",
       "      <td>2000</td>\n",
       "      <td>N</td>\n",
       "    </tr>\n",
       "  </tbody>\n",
       "</table>\n",
       "</div>"
      ],
      "text/plain": [
       "   pop prv    yr new_col\n",
       "a  ???   M  1900       Y\n",
       "b  ???   M  1950       N\n",
       "c  ???   M  2000       Y\n",
       "d  ???   B  1900       Y\n",
       "e  ???   B  2000       N"
      ]
     },
     "execution_count": 25,
     "metadata": {},
     "output_type": "execute_result"
    }
   ],
   "source": [
    "df1"
   ]
  },
  {
   "cell_type": "code",
   "execution_count": 26,
   "metadata": {},
   "outputs": [
    {
     "data": {
      "text/html": [
       "<div>\n",
       "<style scoped>\n",
       "    .dataframe tbody tr th:only-of-type {\n",
       "        vertical-align: middle;\n",
       "    }\n",
       "\n",
       "    .dataframe tbody tr th {\n",
       "        vertical-align: top;\n",
       "    }\n",
       "\n",
       "    .dataframe thead th {\n",
       "        text-align: right;\n",
       "    }\n",
       "</style>\n",
       "<table border=\"1\" class=\"dataframe\">\n",
       "  <thead>\n",
       "    <tr style=\"text-align: right;\">\n",
       "      <th></th>\n",
       "      <th>pop</th>\n",
       "      <th>prv</th>\n",
       "      <th>yr</th>\n",
       "      <th>new_col</th>\n",
       "    </tr>\n",
       "  </thead>\n",
       "  <tbody>\n",
       "    <tr>\n",
       "      <th>a</th>\n",
       "      <td>???</td>\n",
       "      <td>M</td>\n",
       "      <td>1900</td>\n",
       "      <td>Y</td>\n",
       "    </tr>\n",
       "    <tr>\n",
       "      <th>d</th>\n",
       "      <td>???</td>\n",
       "      <td>B</td>\n",
       "      <td>1900</td>\n",
       "      <td>Y</td>\n",
       "    </tr>\n",
       "    <tr>\n",
       "      <th>b</th>\n",
       "      <td>???</td>\n",
       "      <td>M</td>\n",
       "      <td>1950</td>\n",
       "      <td>N</td>\n",
       "    </tr>\n",
       "    <tr>\n",
       "      <th>c</th>\n",
       "      <td>???</td>\n",
       "      <td>M</td>\n",
       "      <td>2000</td>\n",
       "      <td>Y</td>\n",
       "    </tr>\n",
       "    <tr>\n",
       "      <th>e</th>\n",
       "      <td>???</td>\n",
       "      <td>B</td>\n",
       "      <td>2000</td>\n",
       "      <td>N</td>\n",
       "    </tr>\n",
       "  </tbody>\n",
       "</table>\n",
       "</div>"
      ],
      "text/plain": [
       "   pop prv    yr new_col\n",
       "a  ???   M  1900       Y\n",
       "d  ???   B  1900       Y\n",
       "b  ???   M  1950       N\n",
       "c  ???   M  2000       Y\n",
       "e  ???   B  2000       N"
      ]
     },
     "execution_count": 26,
     "metadata": {},
     "output_type": "execute_result"
    }
   ],
   "source": [
    "df1.sort_values(\"yr\") #we can specify a tiebreaker by passing it a list"
   ]
  },
  {
   "cell_type": "code",
   "execution_count": 27,
   "metadata": {},
   "outputs": [
    {
     "data": {
      "text/plain": [
       "a    1.5\n",
       "b    3.0\n",
       "c    4.5\n",
       "d    1.5\n",
       "e    4.5\n",
       "Name: yr, dtype: float64"
      ]
     },
     "execution_count": 27,
     "metadata": {},
     "output_type": "execute_result"
    }
   ],
   "source": [
    "df1[\"yr\"].rank()"
   ]
  },
  {
   "cell_type": "markdown",
   "metadata": {},
   "source": [
    "#### Exercise\n",
    "\n",
    "Write a function that takes a Series and returns the top 10% registers. In this case, earners. Test it with this Series:\n",
    "\n",
    "```python\n",
    "salaries = pd.Series([150000, 90000, 120000,30000,10000,5000,40000, 50000, 80000, 35000, 27000,14000, 28000, 22000,25000])\n",
    "```"
   ]
  },
  {
   "cell_type": "code",
   "execution_count": 28,
   "metadata": {},
   "outputs": [
    {
     "data": {
      "text/plain": [
       "0    150000\n",
       "2    120000\n",
       "dtype: int64"
      ]
     },
     "execution_count": 28,
     "metadata": {},
     "output_type": "execute_result"
    }
   ],
   "source": [
    "def top_salaries(serie):\n",
    "    return serie.sort_values(ascending=False)[:round(len(serie)*0.1)]\n",
    "salaries = pd.Series([150000, 90000, 120000,30000,10000,5000,40000, 50000, 80000, 35000, 27000,14000, 28000, 22000,25000])\n",
    "top_salaries(salaries)"
   ]
  },
  {
   "cell_type": "markdown",
   "metadata": {},
   "source": [
    "#### Exploratory commands\n",
    "When first exploring a dataframe"
   ]
  },
  {
   "cell_type": "code",
   "execution_count": 29,
   "metadata": {},
   "outputs": [
    {
     "name": "stdout",
     "output_type": "stream",
     "text": [
      "   pop prv    yr new_col\n",
      "a  ???   M  1900       Y\n",
      "b  ???   M  1950       N\n",
      "c  ???   M  2000       Y\n",
      "d  ???   B  1900       Y\n",
      "e  ???   B  2000       N\n",
      "   pop prv    yr new_col\n",
      "a  ???   M  1900       Y\n",
      "b  ???   M  1950       N\n",
      "c  ???   M  2000       Y\n",
      "d  ???   B  1900       Y\n",
      "e  ???   B  2000       N\n"
     ]
    }
   ],
   "source": [
    "print(df1.head())\n",
    "print(df1.tail())"
   ]
  },
  {
   "cell_type": "code",
   "execution_count": 30,
   "metadata": {},
   "outputs": [
    {
     "name": "stdout",
     "output_type": "stream",
     "text": [
      "(5, 4)\n",
      "20\n"
     ]
    }
   ],
   "source": [
    "print(df1.shape)\n",
    "print(df1.size)"
   ]
  },
  {
   "cell_type": "code",
   "execution_count": 31,
   "metadata": {},
   "outputs": [
    {
     "name": "stdout",
     "output_type": "stream",
     "text": [
      "<class 'pandas.core.frame.DataFrame'>\n",
      "Index: 5 entries, a to e\n",
      "Data columns (total 4 columns):\n",
      "pop        5 non-null object\n",
      "prv        5 non-null object\n",
      "yr         5 non-null int64\n",
      "new_col    5 non-null object\n",
      "dtypes: int64(1), object(3)\n",
      "memory usage: 360.0+ bytes\n"
     ]
    }
   ],
   "source": [
    "df1.info()"
   ]
  },
  {
   "cell_type": "code",
   "execution_count": 32,
   "metadata": {},
   "outputs": [
    {
     "data": {
      "text/plain": [
       "pop        5\n",
       "prv        5\n",
       "yr         5\n",
       "new_col    5\n",
       "dtype: int64"
      ]
     },
     "execution_count": 32,
     "metadata": {},
     "output_type": "execute_result"
    }
   ],
   "source": [
    "df1.count()"
   ]
  },
  {
   "cell_type": "code",
   "execution_count": 33,
   "metadata": {},
   "outputs": [
    {
     "data": {
      "text/html": [
       "<div>\n",
       "<style scoped>\n",
       "    .dataframe tbody tr th:only-of-type {\n",
       "        vertical-align: middle;\n",
       "    }\n",
       "\n",
       "    .dataframe tbody tr th {\n",
       "        vertical-align: top;\n",
       "    }\n",
       "\n",
       "    .dataframe thead th {\n",
       "        text-align: right;\n",
       "    }\n",
       "</style>\n",
       "<table border=\"1\" class=\"dataframe\">\n",
       "  <thead>\n",
       "    <tr style=\"text-align: right;\">\n",
       "      <th></th>\n",
       "      <th>yr</th>\n",
       "    </tr>\n",
       "  </thead>\n",
       "  <tbody>\n",
       "    <tr>\n",
       "      <th>count</th>\n",
       "      <td>5.0</td>\n",
       "    </tr>\n",
       "    <tr>\n",
       "      <th>mean</th>\n",
       "      <td>1950.0</td>\n",
       "    </tr>\n",
       "    <tr>\n",
       "      <th>std</th>\n",
       "      <td>50.0</td>\n",
       "    </tr>\n",
       "    <tr>\n",
       "      <th>min</th>\n",
       "      <td>1900.0</td>\n",
       "    </tr>\n",
       "    <tr>\n",
       "      <th>25%</th>\n",
       "      <td>1900.0</td>\n",
       "    </tr>\n",
       "    <tr>\n",
       "      <th>50%</th>\n",
       "      <td>1950.0</td>\n",
       "    </tr>\n",
       "    <tr>\n",
       "      <th>75%</th>\n",
       "      <td>2000.0</td>\n",
       "    </tr>\n",
       "    <tr>\n",
       "      <th>max</th>\n",
       "      <td>2000.0</td>\n",
       "    </tr>\n",
       "  </tbody>\n",
       "</table>\n",
       "</div>"
      ],
      "text/plain": [
       "           yr\n",
       "count     5.0\n",
       "mean   1950.0\n",
       "std      50.0\n",
       "min    1900.0\n",
       "25%    1900.0\n",
       "50%    1950.0\n",
       "75%    2000.0\n",
       "max    2000.0"
      ]
     },
     "execution_count": 33,
     "metadata": {},
     "output_type": "execute_result"
    }
   ],
   "source": [
    "df1.describe()"
   ]
  },
  {
   "cell_type": "code",
   "execution_count": 34,
   "metadata": {},
   "outputs": [
    {
     "data": {
      "text/plain": [
       "M    3\n",
       "B    2\n",
       "Name: prv, dtype: int64"
      ]
     },
     "execution_count": 34,
     "metadata": {},
     "output_type": "execute_result"
    }
   ],
   "source": [
    "df1[\"prv\"].value_counts()"
   ]
  },
  {
   "cell_type": "code",
   "execution_count": 35,
   "metadata": {},
   "outputs": [
    {
     "data": {
      "text/plain": [
       "array(['M', 'B'], dtype=object)"
      ]
     },
     "execution_count": 35,
     "metadata": {},
     "output_type": "execute_result"
    }
   ],
   "source": [
    "df1[\"prv\"].unique()"
   ]
  },
  {
   "cell_type": "markdown",
   "metadata": {},
   "source": [
    "#### Missing data"
   ]
  },
  {
   "cell_type": "code",
   "execution_count": 36,
   "metadata": {},
   "outputs": [
    {
     "data": {
      "text/plain": [
       "0     Ma\n",
       "1     Lu\n",
       "2     Ca\n",
       "3     Va\n",
       "4    NaN\n",
       "dtype: object"
      ]
     },
     "execution_count": 36,
     "metadata": {},
     "output_type": "execute_result"
    }
   ],
   "source": [
    "string_data = pd.Series(['Ma', 'Lu', 'Ca', 'Va', np.nan])\n",
    "string_data"
   ]
  },
  {
   "cell_type": "code",
   "execution_count": 37,
   "metadata": {},
   "outputs": [
    {
     "data": {
      "text/plain": [
       "False"
      ]
     },
     "execution_count": 37,
     "metadata": {},
     "output_type": "execute_result"
    }
   ],
   "source": [
    "np.nan == np.nan"
   ]
  },
  {
   "cell_type": "code",
   "execution_count": 38,
   "metadata": {},
   "outputs": [
    {
     "name": "stdout",
     "output_type": "stream",
     "text": [
      "0    False\n",
      "1    False\n",
      "2    False\n",
      "3    False\n",
      "4     True\n",
      "dtype: bool\n",
      "0     True\n",
      "1     True\n",
      "2     True\n",
      "3     True\n",
      "4    False\n",
      "dtype: bool\n",
      "0     True\n",
      "1     True\n",
      "2     True\n",
      "3     True\n",
      "4    False\n",
      "dtype: bool\n"
     ]
    }
   ],
   "source": [
    "print(string_data.isnull())\n",
    "print(~string_data.isnull()) #opposite\n",
    "print(string_data.notnull())"
   ]
  },
  {
   "cell_type": "code",
   "execution_count": 39,
   "metadata": {},
   "outputs": [
    {
     "data": {
      "text/html": [
       "<div>\n",
       "<style scoped>\n",
       "    .dataframe tbody tr th:only-of-type {\n",
       "        vertical-align: middle;\n",
       "    }\n",
       "\n",
       "    .dataframe tbody tr th {\n",
       "        vertical-align: top;\n",
       "    }\n",
       "\n",
       "    .dataframe thead th {\n",
       "        text-align: right;\n",
       "    }\n",
       "</style>\n",
       "<table border=\"1\" class=\"dataframe\">\n",
       "  <thead>\n",
       "    <tr style=\"text-align: right;\">\n",
       "      <th></th>\n",
       "      <th>x</th>\n",
       "      <th>y</th>\n",
       "      <th>z</th>\n",
       "    </tr>\n",
       "  </thead>\n",
       "  <tbody>\n",
       "    <tr>\n",
       "      <th>a</th>\n",
       "      <td>101.653847</td>\n",
       "      <td>76.498424</td>\n",
       "      <td>114.095471</td>\n",
       "    </tr>\n",
       "    <tr>\n",
       "      <th>b</th>\n",
       "      <td>95.490456</td>\n",
       "      <td>86.061915</td>\n",
       "      <td>NaN</td>\n",
       "    </tr>\n",
       "    <tr>\n",
       "      <th>c</th>\n",
       "      <td>88.302195</td>\n",
       "      <td>NaN</td>\n",
       "      <td>NaN</td>\n",
       "    </tr>\n",
       "    <tr>\n",
       "      <th>d</th>\n",
       "      <td>81.153492</td>\n",
       "      <td>NaN</td>\n",
       "      <td>88.844110</td>\n",
       "    </tr>\n",
       "    <tr>\n",
       "      <th>e</th>\n",
       "      <td>134.456672</td>\n",
       "      <td>NaN</td>\n",
       "      <td>100.504632</td>\n",
       "    </tr>\n",
       "    <tr>\n",
       "      <th>f</th>\n",
       "      <td>38.506375</td>\n",
       "      <td>91.005735</td>\n",
       "      <td>69.070754</td>\n",
       "    </tr>\n",
       "    <tr>\n",
       "      <th>g</th>\n",
       "      <td>117.308582</td>\n",
       "      <td>84.853364</td>\n",
       "      <td>91.846294</td>\n",
       "    </tr>\n",
       "    <tr>\n",
       "      <th>h</th>\n",
       "      <td>87.023377</td>\n",
       "      <td>102.795503</td>\n",
       "      <td>109.618989</td>\n",
       "    </tr>\n",
       "  </tbody>\n",
       "</table>\n",
       "</div>"
      ],
      "text/plain": [
       "            x           y           z\n",
       "a  101.653847   76.498424  114.095471\n",
       "b   95.490456   86.061915         NaN\n",
       "c   88.302195         NaN         NaN\n",
       "d   81.153492         NaN   88.844110\n",
       "e  134.456672         NaN  100.504632\n",
       "f   38.506375   91.005735   69.070754\n",
       "g  117.308582   84.853364   91.846294\n",
       "h   87.023377  102.795503  109.618989"
      ]
     },
     "execution_count": 39,
     "metadata": {},
     "output_type": "execute_result"
    }
   ],
   "source": [
    "array = np.random.randn(8,3) * 20 + 100\n",
    "\n",
    "df4 = pd.DataFrame(array, columns=list('xyz'), index=list('abcdefgh'))\n",
    "df4.iloc[2:5, 1] = np.nan\n",
    "df4.iloc[1:3, 2] = np.nan\n",
    "df4"
   ]
  },
  {
   "cell_type": "code",
   "execution_count": 40,
   "metadata": {},
   "outputs": [
    {
     "name": "stdout",
     "output_type": "stream",
     "text": [
      "x    False\n",
      "y    False\n",
      "z    False\n",
      "dtype: bool\n",
      "x    False\n",
      "y     True\n",
      "z     True\n",
      "dtype: bool\n"
     ]
    }
   ],
   "source": [
    "print(df4.isnull().all())\n",
    "print(df4.isnull().any())"
   ]
  },
  {
   "cell_type": "code",
   "execution_count": 41,
   "metadata": {},
   "outputs": [
    {
     "name": "stdout",
     "output_type": "stream",
     "text": [
      "            x           y           z\n",
      "a  101.653847   76.498424  114.095471\n",
      "f   38.506375   91.005735   69.070754\n",
      "g  117.308582   84.853364   91.846294\n",
      "h   87.023377  102.795503  109.618989\n",
      "            x\n",
      "a  101.653847\n",
      "b   95.490456\n",
      "c   88.302195\n",
      "d   81.153492\n",
      "e  134.456672\n",
      "f   38.506375\n",
      "g  117.308582\n",
      "h   87.023377\n"
     ]
    }
   ],
   "source": [
    "print(df4.dropna())\n",
    "print(df4.dropna(axis=1))  #can use other useful flags like how=\"any\", or thresh"
   ]
  },
  {
   "cell_type": "code",
   "execution_count": 42,
   "metadata": {},
   "outputs": [
    {
     "name": "stdout",
     "output_type": "stream",
     "text": [
      "            x        y        z\n",
      "a  101.653847  76.4984  114.095\n",
      "b   95.490456  86.0619        0\n",
      "c   88.302195        0        0\n",
      "d   81.153492        0  88.8441\n",
      "e  134.456672        0  100.505\n",
      "f   38.506375  91.0057  69.0708\n",
      "g  117.308582  84.8534  91.8463\n",
      "h   87.023377  102.796  109.619\n",
      "            x           y           z\n",
      "a  101.653847   76.498424  114.095471\n",
      "b   95.490456   86.061915   20.000000\n",
      "c   88.302195   50.000000   20.000000\n",
      "d   81.153492   50.000000   88.844110\n",
      "e  134.456672   50.000000  100.504632\n",
      "f   38.506375   91.005735   69.070754\n",
      "g  117.308582   84.853364   91.846294\n",
      "h   87.023377  102.795503  109.618989\n",
      "            x           y           z\n",
      "a  101.653847   76.498424  114.095471\n",
      "b   95.490456   86.061915   95.663375\n",
      "c   88.302195   88.242988   95.663375\n",
      "d   81.153492   88.242988   88.844110\n",
      "e  134.456672   88.242988  100.504632\n",
      "f   38.506375   91.005735   69.070754\n",
      "g  117.308582   84.853364   91.846294\n",
      "h   87.023377  102.795503  109.618989\n",
      "            x           y           z\n",
      "a  101.653847   76.498424  114.095471\n",
      "b   95.490456   86.061915  114.095471\n",
      "c   88.302195   86.061915  114.095471\n",
      "d   81.153492   86.061915   88.844110\n",
      "e  134.456672   86.061915  100.504632\n",
      "f   38.506375   91.005735   69.070754\n",
      "g  117.308582   84.853364   91.846294\n",
      "h   87.023377  102.795503  109.618989\n"
     ]
    }
   ],
   "source": [
    "print(df4.fillna(\"0\"))\n",
    "print(df4.fillna({'x' : 100, 'y' : 50, 'z' : 20}))\n",
    "print(df4.fillna(df4.mean()))\n",
    "print(df4.fillna(method='ffill')) #a lot of other useful flags"
   ]
  }
 ],
 "metadata": {
  "kernelspec": {
   "display_name": "Python 3",
   "language": "python",
   "name": "python3"
  },
  "language_info": {
   "codemirror_mode": {
    "name": "ipython",
    "version": 3
   },
   "file_extension": ".py",
   "mimetype": "text/x-python",
   "name": "python",
   "nbconvert_exporter": "python",
   "pygments_lexer": "ipython3",
   "version": "3.6.4"
  }
 },
 "nbformat": 4,
 "nbformat_minor": 2
}
