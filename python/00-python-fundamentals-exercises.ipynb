{
 "cells": [
  {
   "cell_type": "markdown",
   "metadata": {},
   "source": [
    "## Quick Exercises 1\n",
    "\n",
    "1. Implement a function that takes as input three variables, and returns the largest of the three.  Do \n",
    "this without using the Python max() function! Make one version without any local variable and \n",
    "another with one local variable. (hint: it might be easier to use edit)\n",
    "\n",
    "2. Write a function “centenario” that will take Name, and year of birth  as inputs, check if year of birth \n",
    "is intand cast it to intif not, and print name together with the text explaining when the person is to \n",
    "have 100 years (hint: use isinstance)\n",
    "\n",
    "call to function:   centenario(Antonio, 1967), output:   Antonio will reach 100 years in 2067."
   ]
  },
  {
   "cell_type": "code",
   "execution_count": 1,
   "metadata": {},
   "outputs": [
    {
     "data": {
      "text/plain": [
       "'qwkafkakwf'"
      ]
     },
     "execution_count": 1,
     "metadata": {},
     "output_type": "execute_result"
    }
   ],
   "source": [
    "### quick exercises 1 - 1\n",
    "def max_of_three(a,b,c):\n",
    "    max_length = \"\"\n",
    "    for i in [a,b,c]:\n",
    "        if len(i) > len(max_length):\n",
    "            max_length = i\n",
    "        continue\n",
    "    return max_length\n",
    "\n",
    "max_of_three(\"wad\", \"qwkafkakwf\", \"x\")"
   ]
  },
  {
   "cell_type": "code",
   "execution_count": 2,
   "metadata": {},
   "outputs": [
    {
     "name": "stdout",
     "output_type": "stream",
     "text": [
      "Antonio will reach 100 years in 2067\n"
     ]
    }
   ],
   "source": [
    "### quick exercises 1 - 2\n",
    "\n",
    "def centenario(name,year_birth):\n",
    "    if not type(year_birth) == int:\n",
    "        year_birth = int(year_birth)\n",
    "    print(\"{} will reach {} years in {}\".format(name,100,year_birth+100))\n",
    "\n",
    "centenario(\"Antonio\", \"1967\")"
   ]
  },
  {
   "cell_type": "markdown",
   "metadata": {},
   "source": [
    "## Quick Exercises 2\n",
    "1. Write a function to calculate the number of words, number of lines, and length of a stringthe same way the wccommand does in the command line\n",
    "\n",
    "2. Write a Python program to remove the nth index character from a string. If the input string is empty print \n",
    "warning."
   ]
  },
  {
   "cell_type": "code",
   "execution_count": 3,
   "metadata": {},
   "outputs": [
    {
     "data": {
      "text/plain": [
       "(37, 4, 3)"
      ]
     },
     "execution_count": 3,
     "metadata": {},
     "output_type": "execute_result"
    }
   ],
   "source": [
    "### quick exercises 2 - 1\n",
    "\n",
    "def len_words_lines(string):\n",
    "    len_string = len(string)\n",
    "    len_words = len(string.split(\" \"))\n",
    "    len_lines = len(string.split(\"\\n\"))\n",
    "    return len_string,len_words, len_lines\n",
    "\n",
    "len_words_lines(\"ejfqfjw \\nwkwdkkdwkwdkwdkdw \\nwk kwdkwd\")"
   ]
  },
  {
   "cell_type": "code",
   "execution_count": 4,
   "metadata": {},
   "outputs": [
    {
     "data": {
      "text/plain": [
       "'repaceme'"
      ]
     },
     "execution_count": 4,
     "metadata": {},
     "output_type": "execute_result"
    }
   ],
   "source": [
    "### quick exercises 2 - 2\n",
    "\n",
    "def replace_char(string, index):\n",
    "    return string[:index] + string[index+1:]\n",
    "\n",
    "replace_char(\"replaceme\", 3)"
   ]
  },
  {
   "cell_type": "markdown",
   "metadata": {},
   "source": [
    "## Quick Exercises 3\n",
    "\n",
    "1. While inside python, go to ~/Data/opentraveldata/ and list the files. Repeat the same for /home/dsc/Data/us_dot/otpand ~/Data/us_dot/traffic/. \n",
    "Use the list of visited directories from dhistand write for loop which will return for each visited directory its name and number of files inside.\n",
    "\n",
    "2. Write a function that will take text file and pattern as input parameters, and return the number of occurancesof case insensitive pattern inside a text (similar to: grep -i–o pattern file | wc-l)\n",
    "\n",
    "3. Open Finn.txt  file, read lines into a list.  Remove trailing white spaces from each line . Write the \n",
    "resulting list to the new file. How many lines does the new file have?  (hint: empty list is made with [ ] ) \n",
    "\n",
    "4. Open Finn.txt  file, read lines into a list. Create a new version of Finn_nbl.txt with no blank lines.\n",
    "\n",
    "5. Reset the workspace. Obtain the difference in number of lines between original Finn file and and the one without blank lines  and print the result. (hint: use wc)"
   ]
  },
  {
   "cell_type": "code",
   "execution_count": 5,
   "metadata": {},
   "outputs": [
    {
     "name": "stdout",
     "output_type": "stream",
     "text": [
      "/home/dsc/Data/opentraveldata\n",
      "history.txt         \u001b[0m\u001b[01;32moptd_airlines.csv\u001b[0m*    \u001b[01;32mref_airline_nb_of_flights.csv\u001b[0m*\n",
      "\u001b[01;32moptd_aircraft.csv\u001b[0m*  \u001b[01;32moptd_por_public.csv\u001b[0m*\n",
      "/home/dsc/Data/us_dot/otp\n",
      "\u001b[0m\u001b[01;32mOn_Time_On_Time_Performance_2015_1.zip\u001b[0m*\n",
      "\u001b[01;32mOn_Time_On_Time_Performance_2015_2.zip\u001b[0m*\n",
      "\u001b[01;32mOn_Time_On_Time_Performance_2015_3.zip\u001b[0m*\n",
      "\u001b[01;32mOn_Time_On_Time_Performance_2015_4.zip\u001b[0m*\n",
      "\u001b[01;32mOn_Time_On_Time_Performance_2015_5.zip\u001b[0m*\n",
      "\u001b[01;32mOn_Time_On_Time_Performance_2015_6.zip\u001b[0m*\n",
      "\u001b[01;32mOn_Time_On_Time_Performance_2015_7.zip\u001b[0m*\n",
      "\u001b[01;32mOn_Time_On_Time_Performance_2015_8.zip\u001b[0m*\n",
      "/home/dsc/Data/us_dot/traffic\n",
      "\u001b[0m\u001b[01;32mT100_SEGMENT_ALL_CARRIER_2014.zip\u001b[0m*  \u001b[01;32mT100_SEGMENT_ALL_CARRIER_2015.zip\u001b[0m*\n"
     ]
    }
   ],
   "source": [
    "#1\n",
    "%cd \"/home/dsc/Data/opentraveldata/\"\n",
    "%ls\n",
    "\n",
    "%cd \"/home/dsc/Data/us_dot/otp\"\n",
    "%ls\n",
    "\n",
    "%cd \"/home/dsc/Data/us_dot/traffic\"\n",
    "%ls"
   ]
  },
  {
   "cell_type": "code",
   "execution_count": 6,
   "metadata": {},
   "outputs": [
    {
     "name": "stdout",
     "output_type": "stream",
     "text": [
      "/home/dsc/Data/shell\n"
     ]
    },
    {
     "data": {
      "text/plain": [
       "7810"
      ]
     },
     "execution_count": 6,
     "metadata": {},
     "output_type": "execute_result"
    }
   ],
   "source": [
    "#2\n",
    "def count_occurrances(file,pattern):\n",
    "    % cd /home/dsc/Data/shell\n",
    "    f = open(file, \"r\")\n",
    "    content = f.readlines()\n",
    "    f.close()\n",
    "    string_content = \",\".join(content)\n",
    "    return string_content.count(pattern)\n",
    "    \n",
    "count_occurrances(\"Finn.txt\", \"the\")"
   ]
  },
  {
   "cell_type": "code",
   "execution_count": 7,
   "metadata": {},
   "outputs": [
    {
     "name": "stdout",
     "output_type": "stream",
     "text": [
      "/home/dsc/Data/shell\n"
     ]
    }
   ],
   "source": [
    "#3\n",
    "\n",
    "% cd /home/dsc/Data/shell\n",
    "f = open(\"Finn.txt\", \"r\")\n",
    "content = f.readlines()\n",
    "f.close()\n",
    "new_content = []\n",
    "for line in content:\n",
    "    new_content.append(line.strip())"
   ]
  },
  {
   "cell_type": "code",
   "execution_count": 8,
   "metadata": {},
   "outputs": [
    {
     "name": "stdout",
     "output_type": "stream",
     "text": [
      "/home/dsc/Data/shell\n"
     ]
    }
   ],
   "source": [
    "#4\n",
    "% cd /home/dsc/Data/shell\n",
    "f = open(\"Finn.txt\", \"r\")\n",
    "content = f.readlines()\n",
    "new_content = [sentence for sentence in content if not sentence.isspace()]\n",
    "f.close()\n",
    "with open(\"Finn_nbl.txt\", \"w\") as f2:\n",
    "    f2.write(\",\".join(new_content))"
   ]
  },
  {
   "cell_type": "code",
   "execution_count": 9,
   "metadata": {},
   "outputs": [
    {
     "name": "stdout",
     "output_type": "stream",
     "text": [
      "Once deleted, variables cannot be recovered. Proceed (y/[n])? y\n",
      "/home/dsc/Data/shell\n",
      "Finn_nbl.txt  \u001b[0m\u001b[01;32mFinn.txt\u001b[0m*  \u001b[01;32mText_example.txt\u001b[0m*  Untitled.ipynb\n",
      "12363 Finn.txt\n",
      "9674 Finn_nbl.txt\n"
     ]
    }
   ],
   "source": [
    "#5\n",
    "%reset\n",
    "% cd /home/dsc/Data/shell\n",
    "% ls\n",
    "! wc Finn.txt -l\n",
    "! wc Finn_nbl.txt -l"
   ]
  },
  {
   "cell_type": "markdown",
   "metadata": {},
   "source": [
    "## Quick Excercises4\n",
    "\n",
    "1. For a sequence [1, 2, 3, 4, 5, 6, 7, 8 ] get the squared values using the lambda function.\n",
    "\n",
    "2. Prepare a list with 10 names. Make a code that will put all vowels to capitals and every other character to lower letters.\n",
    "\n",
    "3. Prepare again a list with 10 names. Make a function with two input variables: list, and character; that returns a list of names containing one or more of input characters ’s inside the name.  \n",
    "\n",
    "4. Reverse word order from the input string \n",
    "\n",
    "5. Create a function that accepts string as search string and returns number of lines with that string in a command history (hint : use a in b)\n",
    "\n",
    "6. Write a Python function that takes a list of words and returns the length of the longest one."
   ]
  },
  {
   "cell_type": "code",
   "execution_count": 10,
   "metadata": {},
   "outputs": [
    {
     "data": {
      "text/plain": [
       "[1, 4, 9, 16, 25, 36, 49, 64]"
      ]
     },
     "execution_count": 10,
     "metadata": {},
     "output_type": "execute_result"
    }
   ],
   "source": [
    "#1\n",
    "list(map(lambda x:x**2, range(1,9)))"
   ]
  },
  {
   "cell_type": "code",
   "execution_count": 11,
   "metadata": {},
   "outputs": [
    {
     "data": {
      "text/plain": [
       "['nAmEs 0',\n",
       " 'nAmEs 1',\n",
       " 'nAmEs 2',\n",
       " 'nAmEs 3',\n",
       " 'nAmEs 4',\n",
       " 'nAmEs 5',\n",
       " 'nAmEs 6',\n",
       " 'nAmEs 7',\n",
       " 'nAmEs 8',\n",
       " 'nAmEs 9']"
      ]
     },
     "execution_count": 11,
     "metadata": {},
     "output_type": "execute_result"
    }
   ],
   "source": [
    "#2\n",
    "list_names10 = [\"Names {}\".format(i) for i in range(0,10)]\n",
    "def capital(name):\n",
    "    new_name = \"\"\n",
    "    for char in name:\n",
    "       if char in \"aeiou\":\n",
    "           new_name += char.upper()       \n",
    "       else:\n",
    "           new_name += char.lower()\n",
    "    return new_name\n",
    "\n",
    "list(map(capital, list_names10))"
   ]
  },
  {
   "cell_type": "code",
   "execution_count": 12,
   "metadata": {},
   "outputs": [
    {
     "data": {
      "text/plain": [
       "['Names 9']"
      ]
     },
     "execution_count": 12,
     "metadata": {},
     "output_type": "execute_result"
    }
   ],
   "source": [
    "#3\n",
    "list_names10 = [\"Names {}\".format(i) for i in range(0,10)]\n",
    "def filter_letter(list_names, character):\n",
    "    new_list = (list(filter(lambda x: character in x, list_names)))\n",
    "    return new_list\n",
    "filter_letter(list_names10, \"9\")"
   ]
  },
  {
   "cell_type": "code",
   "execution_count": 13,
   "metadata": {},
   "outputs": [
    {
     "data": {
      "text/plain": [
       "'sdcba'"
      ]
     },
     "execution_count": 13,
     "metadata": {},
     "output_type": "execute_result"
    }
   ],
   "source": [
    "#4\n",
    "def reverse(string):\n",
    "    return string[::-1]\n",
    "reverse(\"abcds\")"
   ]
  },
  {
   "cell_type": "code",
   "execution_count": 14,
   "metadata": {},
   "outputs": [
    {
     "data": {
      "text/plain": [
       "4"
      ]
     },
     "execution_count": 14,
     "metadata": {},
     "output_type": "execute_result"
    }
   ],
   "source": [
    "#5\n",
    "def occurrances_history(string):\n",
    "    %history -t -f history.txt\n",
    "    \n",
    "    with open('history.txt') as f:\n",
    "        content = f.readlines()\n",
    "        \n",
    "    counter = 0\n",
    "    for line in content:\n",
    "        if string in line:\n",
    "            counter += 1\n",
    "    \n",
    "    return counter\n",
    "occurrances_history(\"hist\")"
   ]
  },
  {
   "cell_type": "code",
   "execution_count": 15,
   "metadata": {},
   "outputs": [
    {
     "data": {
      "text/plain": [
       "13"
      ]
     },
     "execution_count": 15,
     "metadata": {},
     "output_type": "execute_result"
    }
   ],
   "source": [
    "#6\n",
    "def length_longest(list_words):\n",
    "    longest_word = 0\n",
    "    for word in list_words:\n",
    "        if len(word) > longest_word:\n",
    "            longest_word = len(word)\n",
    "    return longest_word\n",
    "    \n",
    "length_longest([\"word1\", \"a\", \"word120410124\", \"word\"])"
   ]
  },
  {
   "cell_type": "markdown",
   "metadata": {},
   "source": [
    "## Quick Excercises 5\n",
    "\n",
    "1. Categorize a list of words by their first letter, meaning that the result of the operation is first letter and all the words from the input list starting with that letter. (hint: use dict)\n",
    "\n",
    "2. Sort a collection of strings by the number of distinct letters in each string. (hint: use set and lambda)\n",
    "\n",
    "3. Reverse word order from the input string by using for comprehension "
   ]
  },
  {
   "cell_type": "code",
   "execution_count": 16,
   "metadata": {},
   "outputs": [
    {
     "data": {
      "text/plain": [
       "{'a': ['assa1', 'asafaf2'], 'b': ['bwqfqf'], 'c': ['cecew', 'cq']}"
      ]
     },
     "execution_count": 16,
     "metadata": {},
     "output_type": "execute_result"
    }
   ],
   "source": [
    "#1\n",
    "strings = [\"assa1\", \"asafaf2\", \"cecew\", \"cq\", \"bwqfqf\"]\n",
    "first_letters = {string[0] for string in strings if string}\n",
    "{first_letter: [string for string in strings if string[0] == first_letter] for first_letter in first_letters}"
   ]
  },
  {
   "cell_type": "code",
   "execution_count": 17,
   "metadata": {},
   "outputs": [
    {
     "data": {
      "text/plain": [
       "['asdfgghjjkl', 'aawfas', 'abbbs']"
      ]
     },
     "execution_count": 17,
     "metadata": {},
     "output_type": "execute_result"
    }
   ],
   "source": [
    "#2\n",
    "string = [\"aawfas\" , \"abbbs\", \"asdfgghjjkl\"]\n",
    "\n",
    "list(map(lambda e: len(set(e.lower())),string))\n",
    "sorted(string, key=lambda e: len(set(e.lower())),reverse=True)"
   ]
  },
  {
   "cell_type": "code",
   "execution_count": 18,
   "metadata": {},
   "outputs": [
    {
     "data": {
      "text/plain": [
       "['z',\n",
       " 'y',\n",
       " 'x',\n",
       " 'w',\n",
       " 'v',\n",
       " 'u',\n",
       " 't',\n",
       " 's',\n",
       " 'r',\n",
       " 'q',\n",
       " 'p',\n",
       " 'o',\n",
       " 'n',\n",
       " 'm',\n",
       " 'l',\n",
       " 'k',\n",
       " 'j',\n",
       " 'i',\n",
       " 'h',\n",
       " 'g',\n",
       " 'f',\n",
       " 'e',\n",
       " 'd',\n",
       " 'c',\n",
       " 'b',\n",
       " 'a']"
      ]
     },
     "execution_count": 18,
     "metadata": {},
     "output_type": "execute_result"
    }
   ],
   "source": [
    "#3\n",
    "[letter for letter in \"abcdefghijklmnopqrstuvwxyz\"[::-1]]"
   ]
  }
 ],
 "metadata": {
  "kernelspec": {
   "display_name": "Python 3",
   "language": "python",
   "name": "python3"
  },
  "language_info": {
   "codemirror_mode": {
    "name": "ipython",
    "version": 3
   },
   "file_extension": ".py",
   "mimetype": "text/x-python",
   "name": "python",
   "nbconvert_exporter": "python",
   "pygments_lexer": "ipython3",
   "version": "3.6.4"
  }
 },
 "nbformat": 4,
 "nbformat_minor": 2
}
