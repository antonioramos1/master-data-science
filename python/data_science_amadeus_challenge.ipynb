{
 "cells": [
  {
   "cell_type": "markdown",
   "metadata": {},
   "source": [
    "## Data Science  Amadeus Challenge"
   ]
  },
  {
   "cell_type": "markdown",
   "metadata": {},
   "source": [
    "05/05/18 & 11/05/18  \n",
    "Data challenge from the interview process for data scientist in Amadeus"
   ]
  },
  {
   "cell_type": "markdown",
   "metadata": {},
   "source": [
    "### Exercise 1. Count the number of lines in Python for each file"
   ]
  },
  {
   "cell_type": "code",
   "execution_count": 1,
   "metadata": {},
   "outputs": [],
   "source": [
    "import pandas as pd\n",
    "import bz2"
   ]
  },
  {
   "cell_type": "markdown",
   "metadata": {},
   "source": [
    "We have got 2 compressed bz2 files of 500MB (5GB uncompressed)\n",
    "\n",
    "_bzip2 is a free and open-source file compression program that uses the Burrows–Wheeler algorithm. It only compresses single files and is not a file archiver_\n",
    "https://en.wikipedia.org/wiki/Bzip2"
   ]
  },
  {
   "cell_type": "code",
   "execution_count": 2,
   "metadata": {},
   "outputs": [],
   "source": [
    "path = \"/home/dsc/Data/challenge/\"\n",
    "filename_bookings = \"bookings.csv.bz2\"\n",
    "filename_searches = \"searches.csv.bz2\""
   ]
  },
  {
   "cell_type": "markdown",
   "metadata": {},
   "source": [
    "1. Attempted `pd.read_csv(path+filename_bookings, compression=\"bz2\")` got error `#ParserError: Error tokenizing data. C error: Expected 1 fields in line 5000009, saw 2`\n",
    "2. Finally using the bz2 library to open the files without uncompressing them and iterating over each row"
   ]
  },
  {
   "cell_type": "code",
   "execution_count": 3,
   "metadata": {},
   "outputs": [
    {
     "name": "stdout",
     "output_type": "stream",
     "text": [
      "10000011\n",
      "CPU times: user 3min 9s, sys: 1.97 s, total: 3min 11s\n",
      "Wall time: 3min 11s\n"
     ]
    }
   ],
   "source": [
    "%%time\n",
    "count_lines = 0\n",
    "with bz2.BZ2File(path+filename_bookings) as fbookings:\n",
    "    for line in fbookings:\n",
    "        fbookings\n",
    "        count_lines += 1\n",
    "print(count_lines)"
   ]
  },
  {
   "cell_type": "code",
   "execution_count": 4,
   "metadata": {},
   "outputs": [
    {
     "name": "stdout",
     "output_type": "stream",
     "text": [
      "20390199\n",
      "CPU times: user 4min 29s, sys: 1.91 s, total: 4min 31s\n",
      "Wall time: 4min 31s\n"
     ]
    }
   ],
   "source": [
    "%%time\n",
    "count_lines = 0\n",
    "with bz2.BZ2File(path+filename_searches) as fsearches:\n",
    "    for line in fsearches:\n",
    "        count_lines += 1\n",
    "print(count_lines)"
   ]
  },
  {
   "cell_type": "markdown",
   "metadata": {},
   "source": [
    "### Exercise 2. Top 10 arrival airports in the world in 2013\n",
    "\n",
    "Arrival airport is the column arr_port. It is the IATA code for the airport. To get the total number of passengers for an airport you can sum the column pax grouping by arr_port. Note that there is negative pax that corresponds to cancelations. So to get the total number of passengers that have actually booked you should include the negatives in the sum.\n",
    "Print the top 10 arrival airports."
   ]
  },
  {
   "cell_type": "markdown",
   "metadata": {},
   "source": [
    "Creating a reduced sample file `bookings_sample.csv.bz2` in order to explore the data and devise a strategy to solve the exercise"
   ]
  },
  {
   "cell_type": "code",
   "execution_count": 5,
   "metadata": {},
   "outputs": [],
   "source": [
    "filename_sample_bookings = \"bookings_sample.csv.bz2\""
   ]
  },
  {
   "cell_type": "code",
   "execution_count": 6,
   "metadata": {},
   "outputs": [
    {
     "name": "stdout",
     "output_type": "stream",
     "text": [
      "\r\n",
      "bzcat: I/O or other error, bailing out.  Possible reason follows.\r\n",
      "bzcat: Broken pipe\r\n",
      "\tInput file = /home/dsc/Data/challenge/bookings.csv.bz2, output file = (stdout)\r\n"
     ]
    }
   ],
   "source": [
    "! bzcat {path}{filename_bookings} | head -100000 | bzip2 -c > {path}{filename_sample_bookings} "
   ]
  },
  {
   "cell_type": "code",
   "execution_count": 7,
   "metadata": {},
   "outputs": [],
   "source": [
    "sample_bookings = pd.read_csv(path+filename_sample_bookings,compression=\"bz2\",delimiter=\"^\", usecols=[\"year\", \"pax\", \"arr_port\"])"
   ]
  },
  {
   "cell_type": "code",
   "execution_count": 8,
   "metadata": {},
   "outputs": [
    {
     "data": {
      "text/plain": [
       "Index(['arr_port', 'pax', 'year'], dtype='object')"
      ]
     },
     "execution_count": 8,
     "metadata": {},
     "output_type": "execute_result"
    }
   ],
   "source": [
    "sample_bookings.columns"
   ]
  },
  {
   "cell_type": "code",
   "execution_count": 9,
   "metadata": {},
   "outputs": [
    {
     "name": "stdout",
     "output_type": "stream",
     "text": [
      "<class 'pandas.core.frame.DataFrame'>\n",
      "RangeIndex: 99999 entries, 0 to 99998\n",
      "Data columns (total 3 columns):\n",
      "arr_port    99999 non-null object\n",
      "pax         99999 non-null int64\n",
      "year        99999 non-null int64\n",
      "dtypes: int64(2), object(1)\n",
      "memory usage: 2.3+ MB\n"
     ]
    }
   ],
   "source": [
    "sample_bookings.info()"
   ]
  },
  {
   "cell_type": "code",
   "execution_count": 10,
   "metadata": {},
   "outputs": [
    {
     "data": {
      "text/html": [
       "<div>\n",
       "<style scoped>\n",
       "    .dataframe tbody tr th:only-of-type {\n",
       "        vertical-align: middle;\n",
       "    }\n",
       "\n",
       "    .dataframe tbody tr th {\n",
       "        vertical-align: top;\n",
       "    }\n",
       "\n",
       "    .dataframe thead th {\n",
       "        text-align: right;\n",
       "    }\n",
       "</style>\n",
       "<table border=\"1\" class=\"dataframe\">\n",
       "  <thead>\n",
       "    <tr style=\"text-align: right;\">\n",
       "      <th></th>\n",
       "      <th>arr_port</th>\n",
       "      <th>pax</th>\n",
       "      <th>year</th>\n",
       "    </tr>\n",
       "  </thead>\n",
       "  <tbody>\n",
       "    <tr>\n",
       "      <th>0</th>\n",
       "      <td>LHR</td>\n",
       "      <td>-1</td>\n",
       "      <td>2013</td>\n",
       "    </tr>\n",
       "    <tr>\n",
       "      <th>1</th>\n",
       "      <td>CLT</td>\n",
       "      <td>1</td>\n",
       "      <td>2013</td>\n",
       "    </tr>\n",
       "    <tr>\n",
       "      <th>2</th>\n",
       "      <td>CLT</td>\n",
       "      <td>1</td>\n",
       "      <td>2013</td>\n",
       "    </tr>\n",
       "    <tr>\n",
       "      <th>3</th>\n",
       "      <td>SVO</td>\n",
       "      <td>1</td>\n",
       "      <td>2013</td>\n",
       "    </tr>\n",
       "    <tr>\n",
       "      <th>4</th>\n",
       "      <td>SVO</td>\n",
       "      <td>1</td>\n",
       "      <td>2013</td>\n",
       "    </tr>\n",
       "  </tbody>\n",
       "</table>\n",
       "</div>"
      ],
      "text/plain": [
       "   arr_port  pax  year\n",
       "0  LHR        -1  2013\n",
       "1  CLT         1  2013\n",
       "2  CLT         1  2013\n",
       "3  SVO         1  2013\n",
       "4  SVO         1  2013"
      ]
     },
     "execution_count": 10,
     "metadata": {},
     "output_type": "execute_result"
    }
   ],
   "source": [
    "sample_bookings.head()"
   ]
  },
  {
   "cell_type": "code",
   "execution_count": 11,
   "metadata": {},
   "outputs": [],
   "source": [
    "sample_bookings = sample_bookings[sample_bookings[\"year\"] == 2013]"
   ]
  },
  {
   "cell_type": "code",
   "execution_count": 13,
   "metadata": {},
   "outputs": [],
   "source": [
    "sample_bookings[\"arr_port\"] = sample_bookings[\"arr_port\"].str.strip().str.upper()"
   ]
  },
  {
   "cell_type": "code",
   "execution_count": 14,
   "metadata": {},
   "outputs": [
    {
     "name": "stdout",
     "output_type": "stream",
     "text": [
      "     arr_port   pax\n",
      "733       LHR  1006\n",
      "798       MCO   861\n",
      "620       JFK   795\n",
      "706       LAX   761\n",
      "156       BKK   747\n",
      "704       LAS   732\n",
      "1159      SFO   705\n",
      "957       ORD   686\n",
      "232       CDG   676\n",
      "366       DXB   587\n"
     ]
    }
   ],
   "source": [
    "sample_top_10 = sample_bookings[[\"arr_port\", \"pax\"]].groupby([\"arr_port\"], as_index=False).sum().sort_values(by=[\"pax\"], ascending=False).head(10)\n",
    "print(sample_top_10)"
   ]
  },
  {
   "cell_type": "markdown",
   "metadata": {},
   "source": [
    "1. Ensured the data is only from 2013\n",
    "2. Ensured there is consistency in the airport codes by trimming white spaces and capitalising all letters\n",
    "3. Sliced off the necessary columns and grouped by the airport code, then aggregated the result in a sum, sort it and limit it to 10"
   ]
  },
  {
   "cell_type": "markdown",
   "metadata": {},
   "source": [
    "Now applying this strategy to the whole file.\n",
    "In order to open the file, used the chunksize argument to iterate through each chunk and appending the result to a new dataframe."
   ]
  },
  {
   "cell_type": "code",
   "execution_count": 15,
   "metadata": {},
   "outputs": [],
   "source": [
    "chunks = pd.read_csv(path+filename_bookings,compression=\"bz2\",delimiter=\"^\", usecols=[\"year\", \"pax\", \"arr_port\"], chunksize=100000)"
   ]
  },
  {
   "cell_type": "code",
   "execution_count": 16,
   "metadata": {},
   "outputs": [],
   "source": [
    "top_airports = pd.DataFrame()"
   ]
  },
  {
   "cell_type": "code",
   "execution_count": 17,
   "metadata": {
    "scrolled": true
   },
   "outputs": [
    {
     "name": "stdout",
     "output_type": "stream",
     "text": [
      "CPU times: user 3min 51s, sys: 1.57 s, total: 3min 52s\n",
      "Wall time: 3min 53s\n"
     ]
    }
   ],
   "source": [
    "%%time\n",
    "for chunk in chunks:\n",
    "    chunk = chunk[chunk[\"year\"] == 2013]\n",
    "    chunk[\"arr_port\"] = chunk[\"arr_port\"].str.strip().str.upper()\n",
    "    chunk_grouped = chunk[[\"arr_port\", \"pax\"]].groupby([\"arr_port\"], as_index=False).sum()\n",
    "    top_airports = top_airports.append(chunk_grouped)"
   ]
  },
  {
   "cell_type": "code",
   "execution_count": 19,
   "metadata": {},
   "outputs": [
    {
     "name": "stdout",
     "output_type": "stream",
     "text": [
      "  arr_port   pax\n",
      "0      AAE   2.0\n",
      "1      AAL  16.0\n",
      "2      AAQ   5.0\n",
      "3      AAR   4.0\n",
      "4      ABE  16.0\n"
     ]
    }
   ],
   "source": [
    "print(top_airports.head())"
   ]
  },
  {
   "cell_type": "code",
   "execution_count": 34,
   "metadata": {},
   "outputs": [
    {
     "name": "stdout",
     "output_type": "stream",
     "text": [
      "  arr_port      pax\n",
      "0      LHR  88809.0\n",
      "1      MCO  70930.0\n",
      "2      LAX  70530.0\n",
      "3      LAS  69630.0\n",
      "4      JFK  66270.0\n",
      "5      CDG  64490.0\n",
      "6      BKK  59460.0\n",
      "7      MIA  58150.0\n",
      "8      SFO  58000.0\n",
      "9      DXB  55590.0\n"
     ]
    }
   ],
   "source": [
    "top_10_airports = top_airports.groupby(\"arr_port\", as_index=False).sum().sort_values(by=[\"pax\"], ascending=False).head(10).reset_index(drop=True)\n",
    "print(top_10_airports)"
   ]
  },
  {
   "cell_type": "code",
   "execution_count": 33,
   "metadata": {},
   "outputs": [],
   "source": [
    "top_10_airports.to_csv(\"top_10_airports.csv\")"
   ]
  },
  {
   "cell_type": "markdown",
   "metadata": {},
   "source": [
    "### Bonus exercise 2\n",
    "Get the name of the city or airport corresponding to that airport (we suggest to have a look at GeoBases in GitHub)"
   ]
  },
  {
   "cell_type": "markdown",
   "metadata": {},
   "source": [
    "Looking into the GeoBases repository in GitHub found the direct [link](https://raw.githubusercontent.com/opentraveldata/geobases/public/GeoBases/DataSources/Airports/GeoNames/airports_geonames_only_clean.csv) to this table that contains airport codes, and airport names"
   ]
  },
  {
   "cell_type": "code",
   "execution_count": 35,
   "metadata": {},
   "outputs": [],
   "source": [
    "geobases = pd.read_csv(\"https://raw.githubusercontent.com/opentraveldata/geobases/public/GeoBases/DataSources/Airports/GeoNames/airports_geonames_only_clean.csv\", delimiter=\"^\", usecols=[0,1], header=None, names=[\"IATA code\", \"Airport name\"])"
   ]
  },
  {
   "cell_type": "code",
   "execution_count": 36,
   "metadata": {},
   "outputs": [
    {
     "name": "stdout",
     "output_type": "stream",
     "text": [
      "  IATA code                     Airport name\n",
      "0       AUH  Abu Dhabi International Airport\n",
      "1       AZI         Abu Dhabi Bateen Airport\n",
      "2       AAN     Al Ain International Airport\n",
      "3       DXB      Dubai International Airport\n",
      "4       FJR                         Fujairah\n"
     ]
    }
   ],
   "source": [
    "print(geobases.head())"
   ]
  },
  {
   "cell_type": "code",
   "execution_count": 37,
   "metadata": {},
   "outputs": [],
   "source": [
    "top_10_airports = pd.read_csv(\"top_10_airports.csv\", index_col=[0])"
   ]
  },
  {
   "cell_type": "code",
   "execution_count": 38,
   "metadata": {},
   "outputs": [
    {
     "name": "stdout",
     "output_type": "stream",
     "text": [
      "  arr_port      pax\n",
      "0      LHR  88809.0\n",
      "1      MCO  70930.0\n",
      "2      LAX  70530.0\n",
      "3      LAS  69630.0\n",
      "4      JFK  66270.0\n"
     ]
    }
   ],
   "source": [
    "print(top_10_airports.head())"
   ]
  },
  {
   "cell_type": "code",
   "execution_count": 39,
   "metadata": {},
   "outputs": [
    {
     "name": "stdout",
     "output_type": "stream",
     "text": [
      "  arr_port      pax                          Airport name\n",
      "0      LHR  88809.0               London Heathrow Airport\n",
      "1      MCO  70930.0         Orlando International Airport\n",
      "2      LAX  70530.0     Los Angeles International Airport\n",
      "3      LAS  69630.0        McCarran International Airport\n",
      "4      JFK  66270.0  John F Kennedy International Airport\n",
      "5      CDG  64490.0             Paris - Charles-de-Gaulle\n",
      "6      BKK  59460.0                          Suvarnabhumi\n",
      "7      MIA  58150.0           Miami International Airport\n",
      "8      SFO  58000.0   San Francisco International Airport\n",
      "9      DXB  55590.0           Dubai International Airport\n"
     ]
    }
   ],
   "source": [
    "top_10_names = pd.merge(left=top_10_airports,right=geobases, how=\"left\", left_on=\"arr_port\", right_on=\"IATA code\")[[\"arr_port\",\"pax\",\"Airport name\"]]\n",
    "print(top_10_names)"
   ]
  },
  {
   "cell_type": "markdown",
   "metadata": {},
   "source": [
    "### Exercise 3. Plot the monthly number of searches for flights arriving in Malaga, Madrid or Barcelona"
   ]
  },
  {
   "cell_type": "markdown",
   "metadata": {},
   "source": [
    "Creating a sample file `searches_sample.csv.bz2`"
   ]
  },
  {
   "cell_type": "code",
   "execution_count": 40,
   "metadata": {},
   "outputs": [],
   "source": [
    "filename_sample_searches = \"searches_sample.csv.bz2\""
   ]
  },
  {
   "cell_type": "code",
   "execution_count": 41,
   "metadata": {},
   "outputs": [
    {
     "name": "stdout",
     "output_type": "stream",
     "text": [
      "\r\n",
      "bzcat: I/O or other error, bailing out.  Possible reason follows.\r\n",
      "bzcat: Broken pipe\r\n",
      "\tInput file = /home/dsc/Data/challenge/searches.csv.bz2, output file = (stdout)\r\n"
     ]
    }
   ],
   "source": [
    "! bzcat {path}{filename_searches} | head -100000 | bzip2 -c > {path}{filename_sample_searches} "
   ]
  },
  {
   "cell_type": "code",
   "execution_count": 42,
   "metadata": {},
   "outputs": [],
   "source": [
    "sample_searches = pd.read_csv(path+filename_sample_bookings,compression=\"bz2\",delimiter=\"^\")"
   ]
  },
  {
   "cell_type": "code",
   "execution_count": 43,
   "metadata": {},
   "outputs": [
    {
     "name": "stdout",
     "output_type": "stream",
     "text": [
      "<class 'pandas.core.frame.DataFrame'>\n",
      "RangeIndex: 99999 entries, 0 to 99998\n",
      "Data columns (total 38 columns):\n",
      "act_date               99999 non-null object\n",
      "source                 99999 non-null object\n",
      "pos_ctry               99999 non-null object\n",
      "pos_iata               99999 non-null object\n",
      "pos_oid                99999 non-null object\n",
      "rloc                   99999 non-null object\n",
      "cre_date               99999 non-null object\n",
      "duration               99999 non-null int64\n",
      "distance               99999 non-null int64\n",
      "dep_port               99999 non-null object\n",
      "dep_city               99999 non-null object\n",
      "dep_ctry               99999 non-null object\n",
      "arr_port               99999 non-null object\n",
      "arr_city               99999 non-null object\n",
      "arr_ctry               99999 non-null object\n",
      "lst_port               99999 non-null object\n",
      "lst_city               99999 non-null object\n",
      "lst_ctry               99999 non-null object\n",
      "brd_port               99999 non-null object\n",
      "brd_city               99999 non-null object\n",
      "brd_ctry               99999 non-null object\n",
      "off_port               99999 non-null object\n",
      "off_city               99999 non-null object\n",
      "off_ctry               99999 non-null object\n",
      "mkt_port               99999 non-null object\n",
      "mkt_city               99999 non-null object\n",
      "mkt_ctry               99999 non-null object\n",
      "intl                   99999 non-null int64\n",
      "route                  99999 non-null object\n",
      "carrier                99999 non-null object\n",
      "bkg_class              99999 non-null object\n",
      "cab_class              99999 non-null object\n",
      "brd_time               99999 non-null object\n",
      "off_time               99999 non-null object\n",
      "pax                    99999 non-null int64\n",
      "year                   99999 non-null int64\n",
      "month                  99999 non-null int64\n",
      "oid                    99999 non-null object\n",
      "dtypes: int64(6), object(32)\n",
      "memory usage: 29.0+ MB\n"
     ]
    }
   ],
   "source": [
    "sample_searches.info()"
   ]
  },
  {
   "cell_type": "code",
   "execution_count": 44,
   "metadata": {
    "scrolled": true
   },
   "outputs": [
    {
     "data": {
      "text/html": [
       "<div>\n",
       "<style scoped>\n",
       "    .dataframe tbody tr th:only-of-type {\n",
       "        vertical-align: middle;\n",
       "    }\n",
       "\n",
       "    .dataframe tbody tr th {\n",
       "        vertical-align: top;\n",
       "    }\n",
       "\n",
       "    .dataframe thead th {\n",
       "        text-align: right;\n",
       "    }\n",
       "</style>\n",
       "<table border=\"1\" class=\"dataframe\">\n",
       "  <thead>\n",
       "    <tr style=\"text-align: right;\">\n",
       "      <th></th>\n",
       "      <th>act_date</th>\n",
       "      <th>source</th>\n",
       "      <th>pos_ctry</th>\n",
       "      <th>pos_iata</th>\n",
       "      <th>pos_oid</th>\n",
       "      <th>rloc</th>\n",
       "      <th>cre_date</th>\n",
       "      <th>duration</th>\n",
       "      <th>distance</th>\n",
       "      <th>dep_port</th>\n",
       "      <th>...</th>\n",
       "      <th>route</th>\n",
       "      <th>carrier</th>\n",
       "      <th>bkg_class</th>\n",
       "      <th>cab_class</th>\n",
       "      <th>brd_time</th>\n",
       "      <th>off_time</th>\n",
       "      <th>pax</th>\n",
       "      <th>year</th>\n",
       "      <th>month</th>\n",
       "      <th>oid</th>\n",
       "    </tr>\n",
       "  </thead>\n",
       "  <tbody>\n",
       "    <tr>\n",
       "      <th>0</th>\n",
       "      <td>2013-03-05 00:00:00</td>\n",
       "      <td>1A</td>\n",
       "      <td>DE</td>\n",
       "      <td>a68dd7ae953c8acfb187a1af2dcbe123</td>\n",
       "      <td>1a11ae49fcbf545fd2afc1a24d88d2b7</td>\n",
       "      <td>ea65900e72d71f4626378e2ebd298267</td>\n",
       "      <td>2013-02-22 00:00:00</td>\n",
       "      <td>1708</td>\n",
       "      <td>0</td>\n",
       "      <td>ZRH</td>\n",
       "      <td>...</td>\n",
       "      <td>LHRZRH</td>\n",
       "      <td>VI</td>\n",
       "      <td>T</td>\n",
       "      <td>Y</td>\n",
       "      <td>2013-03-07 08:50:00</td>\n",
       "      <td>2013-03-07 11:33:37</td>\n",
       "      <td>-1</td>\n",
       "      <td>2013</td>\n",
       "      <td>3</td>\n",
       "      <td>NULL</td>\n",
       "    </tr>\n",
       "    <tr>\n",
       "      <th>1</th>\n",
       "      <td>2013-03-26 00:00:00</td>\n",
       "      <td>1A</td>\n",
       "      <td>US</td>\n",
       "      <td>e612b9eeeee6f17f42d9b0d3b79e75ca</td>\n",
       "      <td>7437560d8f276d6d05eeb806d9e7edee</td>\n",
       "      <td>737295a86982c941f1c2da9a46a14043</td>\n",
       "      <td>2013-03-26 00:00:00</td>\n",
       "      <td>135270</td>\n",
       "      <td>0</td>\n",
       "      <td>SAL</td>\n",
       "      <td>...</td>\n",
       "      <td>SALATLCLT</td>\n",
       "      <td>NV</td>\n",
       "      <td>L</td>\n",
       "      <td>Y</td>\n",
       "      <td>2013-04-12 13:04:00</td>\n",
       "      <td>2013-04-12 22:05:40</td>\n",
       "      <td>1</td>\n",
       "      <td>2013</td>\n",
       "      <td>3</td>\n",
       "      <td>NULL</td>\n",
       "    </tr>\n",
       "    <tr>\n",
       "      <th>2</th>\n",
       "      <td>2013-03-26 00:00:00</td>\n",
       "      <td>1A</td>\n",
       "      <td>US</td>\n",
       "      <td>e612b9eeeee6f17f42d9b0d3b79e75ca</td>\n",
       "      <td>7437560d8f276d6d05eeb806d9e7edee</td>\n",
       "      <td>737295a86982c941f1c2da9a46a14043</td>\n",
       "      <td>2013-03-26 00:00:00</td>\n",
       "      <td>135270</td>\n",
       "      <td>0</td>\n",
       "      <td>SAL</td>\n",
       "      <td>...</td>\n",
       "      <td>CLTATLSAL</td>\n",
       "      <td>NV</td>\n",
       "      <td>U</td>\n",
       "      <td>Y</td>\n",
       "      <td>2013-07-15 07:00:00</td>\n",
       "      <td>2013-07-15 11:34:51</td>\n",
       "      <td>1</td>\n",
       "      <td>2013</td>\n",
       "      <td>3</td>\n",
       "      <td>NULL</td>\n",
       "    </tr>\n",
       "    <tr>\n",
       "      <th>3</th>\n",
       "      <td>2013-03-26 00:00:00</td>\n",
       "      <td>1A</td>\n",
       "      <td>AU</td>\n",
       "      <td>0f984b3bb6bd06661c95529bbd6193bc</td>\n",
       "      <td>36472c6dbaf7afec9136ac40364e2794</td>\n",
       "      <td>5ecf00fdcbcec761c43dc7285253d0c1</td>\n",
       "      <td>2013-03-26 00:00:00</td>\n",
       "      <td>30885</td>\n",
       "      <td>0</td>\n",
       "      <td>AKL</td>\n",
       "      <td>...</td>\n",
       "      <td>AKLHKGSVO</td>\n",
       "      <td>XK</td>\n",
       "      <td>G</td>\n",
       "      <td>Y</td>\n",
       "      <td>2013-04-24 23:59:00</td>\n",
       "      <td>2013-04-25 16:06:31</td>\n",
       "      <td>1</td>\n",
       "      <td>2013</td>\n",
       "      <td>3</td>\n",
       "      <td>SYDA82546</td>\n",
       "    </tr>\n",
       "    <tr>\n",
       "      <th>4</th>\n",
       "      <td>2013-03-26 00:00:00</td>\n",
       "      <td>1A</td>\n",
       "      <td>AU</td>\n",
       "      <td>0f984b3bb6bd06661c95529bbd6193bc</td>\n",
       "      <td>36472c6dbaf7afec9136ac40364e2794</td>\n",
       "      <td>5ecf00fdcbcec761c43dc7285253d0c1</td>\n",
       "      <td>2013-03-26 00:00:00</td>\n",
       "      <td>30885</td>\n",
       "      <td>0</td>\n",
       "      <td>AKL</td>\n",
       "      <td>...</td>\n",
       "      <td>SVOHKGAKL</td>\n",
       "      <td>XK</td>\n",
       "      <td>G</td>\n",
       "      <td>Y</td>\n",
       "      <td>2013-05-14 20:15:00</td>\n",
       "      <td>2013-05-16 10:44:50</td>\n",
       "      <td>1</td>\n",
       "      <td>2013</td>\n",
       "      <td>3</td>\n",
       "      <td>SYDA82546</td>\n",
       "    </tr>\n",
       "  </tbody>\n",
       "</table>\n",
       "<p>5 rows × 38 columns</p>\n",
       "</div>"
      ],
      "text/plain": [
       "   act_date             source  pos_ctry                          pos_iata  \\\n",
       "0  2013-03-05 00:00:00  1A      DE        a68dd7ae953c8acfb187a1af2dcbe123   \n",
       "1  2013-03-26 00:00:00  1A      US        e612b9eeeee6f17f42d9b0d3b79e75ca   \n",
       "2  2013-03-26 00:00:00  1A      US        e612b9eeeee6f17f42d9b0d3b79e75ca   \n",
       "3  2013-03-26 00:00:00  1A      AU        0f984b3bb6bd06661c95529bbd6193bc   \n",
       "4  2013-03-26 00:00:00  1A      AU        0f984b3bb6bd06661c95529bbd6193bc   \n",
       "\n",
       "                          pos_oid                      rloc            \\\n",
       "0  1a11ae49fcbf545fd2afc1a24d88d2b7  ea65900e72d71f4626378e2ebd298267   \n",
       "1  7437560d8f276d6d05eeb806d9e7edee  737295a86982c941f1c2da9a46a14043   \n",
       "2  7437560d8f276d6d05eeb806d9e7edee  737295a86982c941f1c2da9a46a14043   \n",
       "3  36472c6dbaf7afec9136ac40364e2794  5ecf00fdcbcec761c43dc7285253d0c1   \n",
       "4  36472c6dbaf7afec9136ac40364e2794  5ecf00fdcbcec761c43dc7285253d0c1   \n",
       "\n",
       "   cre_date             duration  distance  dep_port    ...      \\\n",
       "0  2013-02-22 00:00:00      1708         0  ZRH         ...       \n",
       "1  2013-03-26 00:00:00    135270         0  SAL         ...       \n",
       "2  2013-03-26 00:00:00    135270         0  SAL         ...       \n",
       "3  2013-03-26 00:00:00     30885         0  AKL         ...       \n",
       "4  2013-03-26 00:00:00     30885         0  AKL         ...       \n",
       "\n",
       "   route           carrier  bkg_class  cab_class  brd_time             \\\n",
       "0  LHRZRH               VI  T          Y          2013-03-07 08:50:00   \n",
       "1  SALATLCLT            NV  L          Y          2013-04-12 13:04:00   \n",
       "2  CLTATLSAL            NV  U          Y          2013-07-15 07:00:00   \n",
       "3  AKLHKGSVO            XK  G          Y          2013-04-24 23:59:00   \n",
       "4  SVOHKGAKL            XK  G          Y          2013-05-14 20:15:00   \n",
       "\n",
       "   off_time            pax  year month  oid        \n",
       "0  2013-03-07 11:33:37  -1  2013     3  NULL       \n",
       "1  2013-04-12 22:05:40   1  2013     3  NULL       \n",
       "2  2013-07-15 11:34:51   1  2013     3  NULL       \n",
       "3  2013-04-25 16:06:31   1  2013     3  SYDA82546  \n",
       "4  2013-05-16 10:44:50   1  2013     3  SYDA82546  \n",
       "\n",
       "[5 rows x 38 columns]"
      ]
     },
     "execution_count": 44,
     "metadata": {},
     "output_type": "execute_result"
    }
   ],
   "source": [
    "sample_searches.head()"
   ]
  },
  {
   "cell_type": "code",
   "execution_count": 45,
   "metadata": {},
   "outputs": [
    {
     "data": {
      "text/plain": [
       "Index(['act_date           ', 'source', 'pos_ctry', 'pos_iata', 'pos_oid  ',\n",
       "       'rloc          ', 'cre_date           ', 'duration', 'distance',\n",
       "       'dep_port', 'dep_city', 'dep_ctry', 'arr_port', 'arr_city', 'arr_ctry',\n",
       "       'lst_port', 'lst_city', 'lst_ctry', 'brd_port', 'brd_city', 'brd_ctry',\n",
       "       'off_port', 'off_city', 'off_ctry', 'mkt_port', 'mkt_city', 'mkt_ctry',\n",
       "       'intl', 'route          ', 'carrier', 'bkg_class', 'cab_class',\n",
       "       'brd_time           ', 'off_time           ', 'pax', 'year', 'month',\n",
       "       'oid      '],\n",
       "      dtype='object')"
      ]
     },
     "execution_count": 45,
     "metadata": {},
     "output_type": "execute_result"
    }
   ],
   "source": [
    "sample_searches.columns"
   ]
  },
  {
   "cell_type": "code",
   "execution_count": 46,
   "metadata": {},
   "outputs": [],
   "source": [
    "sample_searches.columns = sample_searches.columns.str.strip()"
   ]
  },
  {
   "cell_type": "markdown",
   "metadata": {},
   "source": [
    "# TBC"
   ]
  }
 ],
 "metadata": {
  "kernelspec": {
   "display_name": "Python 3",
   "language": "python",
   "name": "python3"
  },
  "language_info": {
   "codemirror_mode": {
    "name": "ipython",
    "version": 3
   },
   "file_extension": ".py",
   "mimetype": "text/x-python",
   "name": "python",
   "nbconvert_exporter": "python",
   "pygments_lexer": "ipython3",
   "version": "3.6.4"
  }
 },
 "nbformat": 4,
 "nbformat_minor": 2
}
