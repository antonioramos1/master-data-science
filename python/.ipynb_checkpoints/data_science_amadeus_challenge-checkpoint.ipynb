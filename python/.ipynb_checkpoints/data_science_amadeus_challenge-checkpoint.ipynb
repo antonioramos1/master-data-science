{
 "cells": [
  {
   "cell_type": "markdown",
   "metadata": {},
   "source": [
    "## Data Science  Amadeus Challenge"
   ]
  },
  {
   "cell_type": "markdown",
   "metadata": {},
   "source": [
    "05/05/18 & 11/05/18  \n",
    "Data challenge from the interview process for data scientist in Amadeus"
   ]
  },
  {
   "cell_type": "markdown",
   "metadata": {},
   "source": [
    "### Exercise 1. Count the number of lines in Python for each file"
   ]
  },
  {
   "cell_type": "code",
   "execution_count": 20,
   "metadata": {},
   "outputs": [],
   "source": [
    "import pandas as pd\n",
    "import bz2\n",
    "import matplotlib.pyplot as plt"
   ]
  },
  {
   "cell_type": "markdown",
   "metadata": {},
   "source": [
    "We have got 2 compressed bz2 files of 500MB (5GB uncompressed)\n",
    "\n",
    "_bzip2 is a free and open-source file compression program that uses the Burrows–Wheeler algorithm. It only compresses single files and is not a file archiver_\n",
    "https://en.wikipedia.org/wiki/Bzip2"
   ]
  },
  {
   "cell_type": "code",
   "execution_count": 3,
   "metadata": {},
   "outputs": [],
   "source": [
    "path = \"/home/dsc/Data/challenge/\"\n",
    "filename_bookings = \"bookings.csv.bz2\"\n",
    "filename_searches = \"searches.csv.bz2\""
   ]
  },
  {
   "cell_type": "markdown",
   "metadata": {},
   "source": [
    "1. Attempted `pd.read_csv(path+filename_bookings, compression=\"bz2\")` got error `#ParserError: Error tokenizing data. C error: Expected 1 fields in line 5000009, saw 2`\n",
    "2. Finally using the bz2 library to open the files without uncompressing them and iterating over each row"
   ]
  },
  {
   "cell_type": "code",
   "execution_count": 3,
   "metadata": {},
   "outputs": [
    {
     "name": "stdout",
     "output_type": "stream",
     "text": [
      "10000011\n",
      "CPU times: user 3min 9s, sys: 1.97 s, total: 3min 11s\n",
      "Wall time: 3min 11s\n"
     ]
    }
   ],
   "source": [
    "%%time\n",
    "count_lines = 0\n",
    "with bz2.BZ2File(path+filename_bookings) as fbookings:\n",
    "    for line in fbookings:\n",
    "        fbookings\n",
    "        count_lines += 1\n",
    "print(count_lines)"
   ]
  },
  {
   "cell_type": "code",
   "execution_count": 4,
   "metadata": {},
   "outputs": [
    {
     "name": "stdout",
     "output_type": "stream",
     "text": [
      "20390199\n",
      "CPU times: user 4min 29s, sys: 1.91 s, total: 4min 31s\n",
      "Wall time: 4min 31s\n"
     ]
    }
   ],
   "source": [
    "%%time\n",
    "count_lines = 0\n",
    "with bz2.BZ2File(path+filename_searches) as fsearches:\n",
    "    for line in fsearches:\n",
    "        count_lines += 1\n",
    "print(count_lines)"
   ]
  },
  {
   "cell_type": "markdown",
   "metadata": {},
   "source": [
    "### Exercise 2. Top 10 arrival airports in the world in 2013\n",
    "\n",
    "Arrival airport is the column arr_port. It is the IATA code for the airport. To get the total number of passengers for an airport you can sum the column pax grouping by arr_port. Note that there is negative pax that corresponds to cancelations. So to get the total number of passengers that have actually booked you should include the negatives in the sum.\n",
    "Print the top 10 arrival airports."
   ]
  },
  {
   "cell_type": "markdown",
   "metadata": {},
   "source": [
    "Creating a reduced sample file `bookings_sample.csv.bz2` in order to explore the data and devise a strategy to solve the exercise"
   ]
  },
  {
   "cell_type": "code",
   "execution_count": 5,
   "metadata": {},
   "outputs": [],
   "source": [
    "filename_sample_bookings = \"bookings_sample.csv.bz2\""
   ]
  },
  {
   "cell_type": "code",
   "execution_count": 6,
   "metadata": {},
   "outputs": [
    {
     "name": "stdout",
     "output_type": "stream",
     "text": [
      "\r\n",
      "bzcat: I/O or other error, bailing out.  Possible reason follows.\r\n",
      "bzcat: Broken pipe\r\n",
      "\tInput file = /home/dsc/Data/challenge/bookings.csv.bz2, output file = (stdout)\r\n"
     ]
    }
   ],
   "source": [
    "! bzcat {path}{filename_bookings} | head -100000 | bzip2 -c > {path}{filename_sample_bookings} "
   ]
  },
  {
   "cell_type": "code",
   "execution_count": 7,
   "metadata": {},
   "outputs": [],
   "source": [
    "sample_bookings = pd.read_csv(path+filename_sample_bookings,compression=\"bz2\",delimiter=\"^\", usecols=[\"year\", \"pax\", \"arr_port\"])"
   ]
  },
  {
   "cell_type": "code",
   "execution_count": 8,
   "metadata": {},
   "outputs": [
    {
     "data": {
      "text/plain": [
       "Index(['arr_port', 'pax', 'year'], dtype='object')"
      ]
     },
     "execution_count": 8,
     "metadata": {},
     "output_type": "execute_result"
    }
   ],
   "source": [
    "sample_bookings.columns"
   ]
  },
  {
   "cell_type": "code",
   "execution_count": 9,
   "metadata": {},
   "outputs": [
    {
     "name": "stdout",
     "output_type": "stream",
     "text": [
      "<class 'pandas.core.frame.DataFrame'>\n",
      "RangeIndex: 99999 entries, 0 to 99998\n",
      "Data columns (total 3 columns):\n",
      "arr_port    99999 non-null object\n",
      "pax         99999 non-null int64\n",
      "year        99999 non-null int64\n",
      "dtypes: int64(2), object(1)\n",
      "memory usage: 2.3+ MB\n"
     ]
    }
   ],
   "source": [
    "sample_bookings.info()"
   ]
  },
  {
   "cell_type": "code",
   "execution_count": 10,
   "metadata": {},
   "outputs": [
    {
     "data": {
      "text/html": [
       "<div>\n",
       "<style scoped>\n",
       "    .dataframe tbody tr th:only-of-type {\n",
       "        vertical-align: middle;\n",
       "    }\n",
       "\n",
       "    .dataframe tbody tr th {\n",
       "        vertical-align: top;\n",
       "    }\n",
       "\n",
       "    .dataframe thead th {\n",
       "        text-align: right;\n",
       "    }\n",
       "</style>\n",
       "<table border=\"1\" class=\"dataframe\">\n",
       "  <thead>\n",
       "    <tr style=\"text-align: right;\">\n",
       "      <th></th>\n",
       "      <th>arr_port</th>\n",
       "      <th>pax</th>\n",
       "      <th>year</th>\n",
       "    </tr>\n",
       "  </thead>\n",
       "  <tbody>\n",
       "    <tr>\n",
       "      <th>0</th>\n",
       "      <td>LHR</td>\n",
       "      <td>-1</td>\n",
       "      <td>2013</td>\n",
       "    </tr>\n",
       "    <tr>\n",
       "      <th>1</th>\n",
       "      <td>CLT</td>\n",
       "      <td>1</td>\n",
       "      <td>2013</td>\n",
       "    </tr>\n",
       "    <tr>\n",
       "      <th>2</th>\n",
       "      <td>CLT</td>\n",
       "      <td>1</td>\n",
       "      <td>2013</td>\n",
       "    </tr>\n",
       "    <tr>\n",
       "      <th>3</th>\n",
       "      <td>SVO</td>\n",
       "      <td>1</td>\n",
       "      <td>2013</td>\n",
       "    </tr>\n",
       "    <tr>\n",
       "      <th>4</th>\n",
       "      <td>SVO</td>\n",
       "      <td>1</td>\n",
       "      <td>2013</td>\n",
       "    </tr>\n",
       "  </tbody>\n",
       "</table>\n",
       "</div>"
      ],
      "text/plain": [
       "   arr_port  pax  year\n",
       "0  LHR        -1  2013\n",
       "1  CLT         1  2013\n",
       "2  CLT         1  2013\n",
       "3  SVO         1  2013\n",
       "4  SVO         1  2013"
      ]
     },
     "execution_count": 10,
     "metadata": {},
     "output_type": "execute_result"
    }
   ],
   "source": [
    "sample_bookings.head()"
   ]
  },
  {
   "cell_type": "code",
   "execution_count": 11,
   "metadata": {},
   "outputs": [],
   "source": [
    "sample_bookings = sample_bookings[sample_bookings[\"year\"] == 2013]"
   ]
  },
  {
   "cell_type": "code",
   "execution_count": 13,
   "metadata": {},
   "outputs": [],
   "source": [
    "sample_bookings[\"arr_port\"] = sample_bookings[\"arr_port\"].str.strip().str.upper()"
   ]
  },
  {
   "cell_type": "code",
   "execution_count": 14,
   "metadata": {},
   "outputs": [
    {
     "name": "stdout",
     "output_type": "stream",
     "text": [
      "     arr_port   pax\n",
      "733       LHR  1006\n",
      "798       MCO   861\n",
      "620       JFK   795\n",
      "706       LAX   761\n",
      "156       BKK   747\n",
      "704       LAS   732\n",
      "1159      SFO   705\n",
      "957       ORD   686\n",
      "232       CDG   676\n",
      "366       DXB   587\n"
     ]
    }
   ],
   "source": [
    "sample_top_10 = sample_bookings[[\"arr_port\", \"pax\"]].groupby([\"arr_port\"], as_index=False).sum().sort_values(by=[\"pax\"], ascending=False).head(10)\n",
    "print(sample_top_10)"
   ]
  },
  {
   "cell_type": "markdown",
   "metadata": {},
   "source": [
    "1. Ensured the data is only from 2013\n",
    "2. Ensured there is consistency in the airport codes by trimming white spaces and capitalising all letters\n",
    "3. Sliced off the necessary columns and grouped by the airport code, then aggregated the result in a sum, sort it and limit it to 10"
   ]
  },
  {
   "cell_type": "markdown",
   "metadata": {},
   "source": [
    "Now applying this strategy to the whole file.\n",
    "In order to open the file, used the chunksize argument to iterate through each chunk and appending the result to a new dataframe."
   ]
  },
  {
   "cell_type": "code",
   "execution_count": 15,
   "metadata": {},
   "outputs": [],
   "source": [
    "chunks = pd.read_csv(path+filename_bookings,compression=\"bz2\",delimiter=\"^\", usecols=[\"year\", \"pax\", \"arr_port\"], chunksize=100000)"
   ]
  },
  {
   "cell_type": "code",
   "execution_count": 16,
   "metadata": {},
   "outputs": [],
   "source": [
    "top_airports = pd.DataFrame()"
   ]
  },
  {
   "cell_type": "code",
   "execution_count": 17,
   "metadata": {
    "scrolled": true
   },
   "outputs": [
    {
     "name": "stdout",
     "output_type": "stream",
     "text": [
      "CPU times: user 3min 51s, sys: 1.57 s, total: 3min 52s\n",
      "Wall time: 3min 53s\n"
     ]
    }
   ],
   "source": [
    "%%time\n",
    "for chunk in chunks:\n",
    "    chunk = chunk[chunk[\"year\"] == 2013]\n",
    "    chunk[\"arr_port\"] = chunk[\"arr_port\"].str.strip().str.upper()\n",
    "    chunk_grouped = chunk[[\"arr_port\", \"pax\"]].groupby([\"arr_port\"], as_index=False).sum()\n",
    "    top_airports = top_airports.append(chunk_grouped)"
   ]
  },
  {
   "cell_type": "code",
   "execution_count": 19,
   "metadata": {},
   "outputs": [
    {
     "name": "stdout",
     "output_type": "stream",
     "text": [
      "  arr_port   pax\n",
      "0      AAE   2.0\n",
      "1      AAL  16.0\n",
      "2      AAQ   5.0\n",
      "3      AAR   4.0\n",
      "4      ABE  16.0\n"
     ]
    }
   ],
   "source": [
    "print(top_airports.head())"
   ]
  },
  {
   "cell_type": "code",
   "execution_count": 34,
   "metadata": {},
   "outputs": [
    {
     "name": "stdout",
     "output_type": "stream",
     "text": [
      "  arr_port      pax\n",
      "0      LHR  88809.0\n",
      "1      MCO  70930.0\n",
      "2      LAX  70530.0\n",
      "3      LAS  69630.0\n",
      "4      JFK  66270.0\n",
      "5      CDG  64490.0\n",
      "6      BKK  59460.0\n",
      "7      MIA  58150.0\n",
      "8      SFO  58000.0\n",
      "9      DXB  55590.0\n"
     ]
    }
   ],
   "source": [
    "top_10_airports = top_airports.groupby(\"arr_port\", as_index=False).sum().sort_values(by=[\"pax\"], ascending=False).head(10).reset_index(drop=True)\n",
    "print(top_10_airports)"
   ]
  },
  {
   "cell_type": "code",
   "execution_count": 33,
   "metadata": {},
   "outputs": [],
   "source": [
    "top_10_airports.to_csv(\"top_10_airports.csv\")"
   ]
  },
  {
   "cell_type": "markdown",
   "metadata": {},
   "source": [
    "### Bonus exercise 2\n",
    "Get the name of the city or airport corresponding to that airport (we suggest to have a look at GeoBases in GitHub)"
   ]
  },
  {
   "cell_type": "markdown",
   "metadata": {},
   "source": [
    "Looking into the GeoBases repository in GitHub found the direct [link](https://raw.githubusercontent.com/opentraveldata/geobases/public/GeoBases/DataSources/Airports/GeoNames/airports_geonames_only_clean.csv) to this table that contains airport codes, and airport names"
   ]
  },
  {
   "cell_type": "code",
   "execution_count": 35,
   "metadata": {},
   "outputs": [],
   "source": [
    "geobases = pd.read_csv(\"https://raw.githubusercontent.com/opentraveldata/geobases/public/GeoBases/DataSources/Airports/GeoNames/airports_geonames_only_clean.csv\", delimiter=\"^\", usecols=[0,1], header=None, names=[\"IATA code\", \"Airport name\"])"
   ]
  },
  {
   "cell_type": "code",
   "execution_count": 36,
   "metadata": {},
   "outputs": [
    {
     "name": "stdout",
     "output_type": "stream",
     "text": [
      "  IATA code                     Airport name\n",
      "0       AUH  Abu Dhabi International Airport\n",
      "1       AZI         Abu Dhabi Bateen Airport\n",
      "2       AAN     Al Ain International Airport\n",
      "3       DXB      Dubai International Airport\n",
      "4       FJR                         Fujairah\n"
     ]
    }
   ],
   "source": [
    "print(geobases.head())"
   ]
  },
  {
   "cell_type": "code",
   "execution_count": 37,
   "metadata": {},
   "outputs": [],
   "source": [
    "top_10_airports = pd.read_csv(\"top_10_airports.csv\", index_col=[0])"
   ]
  },
  {
   "cell_type": "code",
   "execution_count": 38,
   "metadata": {},
   "outputs": [
    {
     "name": "stdout",
     "output_type": "stream",
     "text": [
      "  arr_port      pax\n",
      "0      LHR  88809.0\n",
      "1      MCO  70930.0\n",
      "2      LAX  70530.0\n",
      "3      LAS  69630.0\n",
      "4      JFK  66270.0\n"
     ]
    }
   ],
   "source": [
    "print(top_10_airports.head())"
   ]
  },
  {
   "cell_type": "code",
   "execution_count": 39,
   "metadata": {},
   "outputs": [
    {
     "name": "stdout",
     "output_type": "stream",
     "text": [
      "  arr_port      pax                          Airport name\n",
      "0      LHR  88809.0               London Heathrow Airport\n",
      "1      MCO  70930.0         Orlando International Airport\n",
      "2      LAX  70530.0     Los Angeles International Airport\n",
      "3      LAS  69630.0        McCarran International Airport\n",
      "4      JFK  66270.0  John F Kennedy International Airport\n",
      "5      CDG  64490.0             Paris - Charles-de-Gaulle\n",
      "6      BKK  59460.0                          Suvarnabhumi\n",
      "7      MIA  58150.0           Miami International Airport\n",
      "8      SFO  58000.0   San Francisco International Airport\n",
      "9      DXB  55590.0           Dubai International Airport\n"
     ]
    }
   ],
   "source": [
    "top_10_names = pd.merge(left=top_10_airports,right=geobases, how=\"left\", left_on=\"arr_port\", right_on=\"IATA code\")[[\"arr_port\",\"pax\",\"Airport name\"]]\n",
    "print(top_10_names)"
   ]
  },
  {
   "cell_type": "markdown",
   "metadata": {},
   "source": [
    "### Exercise 3. Plot the monthly number of searches for flights arriving in Malaga, Madrid or Barcelona"
   ]
  },
  {
   "cell_type": "markdown",
   "metadata": {},
   "source": [
    "Strategy followed:\n",
    "\n",
    "1. Create a sample file\n",
    "2. Drop NAs\n",
    "3. Filter Destination by MAD, BCN, AGP\n",
    "4. Create a month column\n",
    "5. Group by month and destination"
   ]
  },
  {
   "cell_type": "markdown",
   "metadata": {},
   "source": [
    "Creating a sample file `searches_sample.csv.bz2` to explore the file and develop a strategy"
   ]
  },
  {
   "cell_type": "code",
   "execution_count": 5,
   "metadata": {},
   "outputs": [],
   "source": [
    "filename_sample_searches = \"searches_sample.csv.bz2\""
   ]
  },
  {
   "cell_type": "code",
   "execution_count": 6,
   "metadata": {},
   "outputs": [
    {
     "name": "stdout",
     "output_type": "stream",
     "text": [
      "\r\n",
      "bzcat: I/O or other error, bailing out.  Possible reason follows.\r\n",
      "bzcat: Broken pipe\r\n",
      "\tInput file = /home/dsc/Data/challenge/searches.csv.bz2, output file = (stdout)\r\n"
     ]
    }
   ],
   "source": [
    "! bzcat {path}{filename_searches} | head -100000 | bzip2 -c > {path}{filename_sample_searches} "
   ]
  },
  {
   "cell_type": "code",
   "execution_count": 7,
   "metadata": {},
   "outputs": [],
   "source": [
    "sample_searches = pd.read_csv(path+filename_sample_searches,compression=\"bz2\",delimiter=\"^\", usecols=[\"Date\", \"Destination\"])"
   ]
  },
  {
   "cell_type": "code",
   "execution_count": 8,
   "metadata": {},
   "outputs": [
    {
     "name": "stdout",
     "output_type": "stream",
     "text": [
      "<class 'pandas.core.frame.DataFrame'>\n",
      "RangeIndex: 99999 entries, 0 to 99998\n",
      "Data columns (total 2 columns):\n",
      "Date           99999 non-null object\n",
      "Destination    99999 non-null object\n",
      "dtypes: object(2)\n",
      "memory usage: 1.5+ MB\n",
      "None\n",
      "         Date Destination\n",
      "0  2013-01-01         AUH\n",
      "1  2013-01-01         MIL\n",
      "2  2013-01-01         SFO\n",
      "3  2013-01-01         ARN\n",
      "4  2013-01-01         MAD\n"
     ]
    }
   ],
   "source": [
    "print(sample_searches.info())\n",
    "print(sample_searches.head())"
   ]
  },
  {
   "cell_type": "code",
   "execution_count": 9,
   "metadata": {},
   "outputs": [],
   "source": [
    "sample_searches.dropna(inplace=True)"
   ]
  },
  {
   "cell_type": "code",
   "execution_count": 10,
   "metadata": {},
   "outputs": [],
   "source": [
    "destination_madrid = (sample_searches[\"Destination\"] == \"MAD\")\n",
    "destination_barcelona = (sample_searches[\"Destination\"] == \"BCN\")\n",
    "destination_malaga = (sample_searches[\"Destination\"] == \"AGP\")"
   ]
  },
  {
   "cell_type": "code",
   "execution_count": 11,
   "metadata": {},
   "outputs": [
    {
     "data": {
      "text/plain": [
       "0    2013-01-01\n",
       "1    2013-01-01\n",
       "2    2013-01-01\n",
       "3    2013-01-01\n",
       "4    2013-01-01\n",
       "Name: Date, dtype: object"
      ]
     },
     "execution_count": 11,
     "metadata": {},
     "output_type": "execute_result"
    }
   ],
   "source": [
    "sample_searches[\"Date\"].head()"
   ]
  },
  {
   "cell_type": "code",
   "execution_count": 12,
   "metadata": {},
   "outputs": [
    {
     "name": "stdout",
     "output_type": "stream",
     "text": [
      "0    January\n",
      "1    January\n",
      "2    January\n",
      "3    January\n",
      "4    January\n",
      "Name: month, dtype: object\n"
     ]
    }
   ],
   "source": [
    "#Converting column from object to datetime and then format it to month\n",
    "sample_searches[\"month\"] = pd.to_datetime(sample_searches[\"Date\"]).dt.strftime(\"%B\")\n",
    "print(sample_searches[\"month\"].head())"
   ]
  },
  {
   "cell_type": "code",
   "execution_count": 13,
   "metadata": {},
   "outputs": [
    {
     "data": {
      "text/html": [
       "<div>\n",
       "<style scoped>\n",
       "    .dataframe tbody tr th:only-of-type {\n",
       "        vertical-align: middle;\n",
       "    }\n",
       "\n",
       "    .dataframe tbody tr th {\n",
       "        vertical-align: top;\n",
       "    }\n",
       "\n",
       "    .dataframe thead th {\n",
       "        text-align: right;\n",
       "    }\n",
       "</style>\n",
       "<table border=\"1\" class=\"dataframe\">\n",
       "  <thead>\n",
       "    <tr style=\"text-align: right;\">\n",
       "      <th></th>\n",
       "      <th>month</th>\n",
       "      <th>Destination</th>\n",
       "      <th>Date</th>\n",
       "    </tr>\n",
       "  </thead>\n",
       "  <tbody>\n",
       "    <tr>\n",
       "      <th>0</th>\n",
       "      <td>January</td>\n",
       "      <td>MAD</td>\n",
       "      <td>425</td>\n",
       "    </tr>\n",
       "    <tr>\n",
       "      <th>1</th>\n",
       "      <td>January</td>\n",
       "      <td>AGP</td>\n",
       "      <td>169</td>\n",
       "    </tr>\n",
       "    <tr>\n",
       "      <th>2</th>\n",
       "      <td>January</td>\n",
       "      <td>BCN</td>\n",
       "      <td>517</td>\n",
       "    </tr>\n",
       "    <tr>\n",
       "      <th>3</th>\n",
       "      <td>February</td>\n",
       "      <td>BCN</td>\n",
       "      <td>497</td>\n",
       "    </tr>\n",
       "    <tr>\n",
       "      <th>4</th>\n",
       "      <td>February</td>\n",
       "      <td>MAD</td>\n",
       "      <td>400</td>\n",
       "    </tr>\n",
       "    <tr>\n",
       "      <th>5</th>\n",
       "      <td>February</td>\n",
       "      <td>AGP</td>\n",
       "      <td>147</td>\n",
       "    </tr>\n",
       "    <tr>\n",
       "      <th>6</th>\n",
       "      <td>March</td>\n",
       "      <td>AGP</td>\n",
       "      <td>187</td>\n",
       "    </tr>\n",
       "    <tr>\n",
       "      <th>7</th>\n",
       "      <td>March</td>\n",
       "      <td>BCN</td>\n",
       "      <td>536</td>\n",
       "    </tr>\n",
       "    <tr>\n",
       "      <th>8</th>\n",
       "      <td>March</td>\n",
       "      <td>MAD</td>\n",
       "      <td>433</td>\n",
       "    </tr>\n",
       "    <tr>\n",
       "      <th>9</th>\n",
       "      <td>April</td>\n",
       "      <td>BCN</td>\n",
       "      <td>174</td>\n",
       "    </tr>\n",
       "    <tr>\n",
       "      <th>10</th>\n",
       "      <td>April</td>\n",
       "      <td>MAD</td>\n",
       "      <td>147</td>\n",
       "    </tr>\n",
       "    <tr>\n",
       "      <th>11</th>\n",
       "      <td>April</td>\n",
       "      <td>AGP</td>\n",
       "      <td>31</td>\n",
       "    </tr>\n",
       "  </tbody>\n",
       "</table>\n",
       "</div>"
      ],
      "text/plain": [
       "       month Destination  Date\n",
       "0    January         MAD   425\n",
       "1    January         AGP   169\n",
       "2    January         BCN   517\n",
       "3   February         BCN   497\n",
       "4   February         MAD   400\n",
       "5   February         AGP   147\n",
       "6      March         AGP   187\n",
       "7      March         BCN   536\n",
       "8      March         MAD   433\n",
       "9      April         BCN   174\n",
       "10     April         MAD   147\n",
       "11     April         AGP    31"
      ]
     },
     "execution_count": 13,
     "metadata": {},
     "output_type": "execute_result"
    }
   ],
   "source": [
    "#Grouping the columns by both, month and destination\n",
    "sample_searches[destination_madrid | destination_barcelona | destination_malaga].groupby([\"month\", \"Destination\"], as_index=False, sort=False).count()"
   ]
  },
  {
   "cell_type": "markdown",
   "metadata": {},
   "source": [
    "Now will apply this strategy to the whole file and then create the plot.  \n",
    "\n",
    "The size of the file uncompressed is about 5GB, using a chunk approach selecting the data I need and appending it to a new DataFrame"
   ]
  },
  {
   "cell_type": "code",
   "execution_count": 14,
   "metadata": {},
   "outputs": [],
   "source": [
    "chunks = pd.read_csv(path+filename_searches,compression=\"bz2\",delimiter=\"^\", usecols=[\"Date\", \"Destination\"], chunksize=300000, low_memory=False)"
   ]
  },
  {
   "cell_type": "code",
   "execution_count": 15,
   "metadata": {},
   "outputs": [],
   "source": [
    "destinations_df = pd.DataFrame()"
   ]
  },
  {
   "cell_type": "code",
   "execution_count": 16,
   "metadata": {},
   "outputs": [
    {
     "name": "stdout",
     "output_type": "stream",
     "text": [
      "chunk # 0 length of file: 30\n",
      "chunk # 1 length of file: 63\n",
      "chunk # 2 length of file: 99\n",
      "chunk # 3 length of file: 132\n",
      "chunk # 4 length of file: 165\n",
      "chunk # 5 length of file: 198\n",
      "chunk # 6 length of file: 231\n",
      "chunk # 7 length of file: 264\n",
      "chunk # 8 length of file: 297\n",
      "chunk # 9 length of file: 330\n",
      "chunk # 10 length of file: 363\n",
      "chunk # 11 length of file: 396\n",
      "chunk # 12 length of file: 429\n",
      "chunk # 13 length of file: 462\n",
      "chunk # 14 length of file: 495\n",
      "chunk # 15 length of file: 528\n",
      "chunk # 16 length of file: 561\n",
      "chunk # 17 length of file: 594\n",
      "chunk # 18 length of file: 627\n",
      "chunk # 19 length of file: 660\n",
      "chunk # 20 length of file: 693\n",
      "chunk # 21 length of file: 726\n",
      "chunk # 22 length of file: 759\n",
      "chunk # 23 length of file: 792\n",
      "chunk # 24 length of file: 825\n",
      "chunk # 25 length of file: 858\n",
      "chunk # 26 length of file: 891\n",
      "chunk # 27 length of file: 924\n",
      "chunk # 28 length of file: 957\n",
      "chunk # 29 length of file: 990\n",
      "chunk # 30 length of file: 1023\n",
      "chunk # 31 length of file: 1056\n",
      "chunk # 32 length of file: 1089\n",
      "chunk # 33 length of file: 1122\n",
      "chunk # 34 length of file: 1155\n",
      "chunk # 35 length of file: 1188\n",
      "chunk # 36 length of file: 1221\n",
      "chunk # 37 length of file: 1254\n",
      "chunk # 38 length of file: 1287\n",
      "chunk # 39 length of file: 1323\n",
      "chunk # 40 length of file: 1356\n",
      "chunk # 41 length of file: 1389\n",
      "chunk # 42 length of file: 1422\n",
      "chunk # 43 length of file: 1455\n",
      "chunk # 44 length of file: 1488\n",
      "chunk # 45 length of file: 1521\n",
      "chunk # 46 length of file: 1554\n",
      "chunk # 47 length of file: 1587\n",
      "chunk # 48 length of file: 1620\n",
      "chunk # 49 length of file: 1653\n",
      "chunk # 50 length of file: 1686\n",
      "chunk # 51 length of file: 1719\n",
      "chunk # 52 length of file: 1752\n",
      "chunk # 53 length of file: 1785\n",
      "chunk # 54 length of file: 1818\n",
      "chunk # 55 length of file: 1851\n",
      "chunk # 56 length of file: 1884\n",
      "chunk # 57 length of file: 1917\n",
      "chunk # 58 length of file: 1950\n",
      "chunk # 59 length of file: 1983\n",
      "chunk # 60 length of file: 2016\n",
      "chunk # 61 length of file: 2049\n",
      "chunk # 62 length of file: 2082\n",
      "chunk # 63 length of file: 2115\n",
      "chunk # 64 length of file: 2148\n",
      "chunk # 65 length of file: 2181\n",
      "chunk # 66 length of file: 2214\n",
      "chunk # 67 length of file: 2247\n",
      "CPU times: user 4min 2s, sys: 9.82 s, total: 4min 11s\n",
      "Wall time: 4min 12s\n"
     ]
    }
   ],
   "source": [
    "%%time\n",
    "for i, chunk in enumerate(chunks):\n",
    "    chunk.dropna(inplace=True)\n",
    "    chunk[\"month\"] = pd.to_datetime(chunk[\"Date\"])\n",
    "    chunk[\"month\"] = chunk[\"month\"].dt.strftime(\"%B\")\n",
    "    destination_madrid = (chunk[\"Destination\"] == \"MAD\")\n",
    "    destination_barcelona = (chunk[\"Destination\"] == \"BCN\")\n",
    "    destination_malaga = (chunk[\"Destination\"] == \"AGP\")\n",
    "    chunk_output = chunk[destination_madrid | destination_barcelona | destination_malaga].groupby([\"month\", \"Destination\"], as_index=False).count()\n",
    "    destinations_df = destinations_df.append(chunk_output)\n",
    "    print(\"chunk # {} length of file: {}\".format(i, len(destinations_df)))"
   ]
  },
  {
   "cell_type": "code",
   "execution_count": 17,
   "metadata": {},
   "outputs": [
    {
     "name": "stdout",
     "output_type": "stream",
     "text": [
      "    month Destination  Date\n",
      "0   April         AGP   145\n",
      "1   April         BCN   548\n",
      "2   April         MAD   443\n",
      "3  August         AGP   138\n",
      "4  August         BCN   475\n",
      "(2247, 3)\n"
     ]
    }
   ],
   "source": [
    "print(destinations_df.head())\n",
    "print(destinations_df.shape)"
   ]
  },
  {
   "cell_type": "code",
   "execution_count": 18,
   "metadata": {},
   "outputs": [
    {
     "name": "stdout",
     "output_type": "stream",
     "text": [
      "    month Destination   Date\n",
      "0   April         AGP   8265\n",
      "1   April         BCN  31236\n",
      "2   April         MAD  25251\n",
      "3  August         AGP   7866\n",
      "4  August         BCN  27075\n",
      "(36, 3)\n",
      "month          object\n",
      "Destination    object\n",
      "Date            int64\n",
      "dtype: object\n"
     ]
    }
   ],
   "source": [
    "#Grouping again by month and destination again and aggregating by sum\n",
    "destinations_df_final = destinations_df.groupby([\"month\", \"Destination\"], as_index=False).sum()\n",
    "print(destinations_df_final.head())\n",
    "print(destinations_df_final.shape)\n",
    "print(destinations_df_final.dtypes)"
   ]
  },
  {
   "cell_type": "code",
   "execution_count": 19,
   "metadata": {},
   "outputs": [
    {
     "name": "stdout",
     "output_type": "stream",
     "text": [
      "       month Destination   Date\n",
      "14   January         MAD  24258\n",
      "13   January         BCN  29469\n",
      "12   January         AGP   9633\n",
      "11  February         MAD  22800\n",
      "10  February         BCN  28329\n"
     ]
    }
   ],
   "source": [
    "#Sorting the data by month\n",
    "destinations_df_final[\"month\"] = pd.to_datetime(destinations_df_final[\"month\"], format=\"%B\")\n",
    "destinations_df_final.sort_values(by = \"month\", inplace=True)\n",
    "destinations_df_final[\"month\"] = destinations_df_final[\"month\"].dt.strftime(\"%B\")\n",
    "print(destinations_df_final.head())"
   ]
  },
  {
   "cell_type": "code",
   "execution_count": 21,
   "metadata": {},
   "outputs": [
    {
     "data": {
      "image/png": "[encoded data removed]",
      "text/plain": [
       "<Figure size 432x288 with 1 Axes>"
      ]
     },
     "metadata": {},
     "output_type": "display_data"
    }
   ],
   "source": [
    "cities = [\"AGP\", \"MAD\", \"BCN\"]\n",
    "plt.style.use('ggplot')\n",
    "\n",
    "for city in cities:\n",
    "    plt.plot(destinations_df_final[\"month\"][destinations_df_final[\"Destination\"] == city], destinations_df_final[\"Date\"][destinations_df_final[\"Destination\"] == city], label=city)\n",
    "plt.xticks(rotation=60)\n",
    "plt.legend()\n",
    "plt.show()"
   ]
  }
 ],
 "metadata": {
  "kernelspec": {
   "display_name": "Python 3",
   "language": "python",
   "name": "python3"
  },
  "language_info": {
   "codemirror_mode": {
    "name": "ipython",
    "version": 3
   },
   "file_extension": ".py",
   "mimetype": "text/x-python",
   "name": "python",
   "nbconvert_exporter": "python",
   "pygments_lexer": "ipython3",
   "version": "3.6.4"
  }
 },
 "nbformat": 4,
 "nbformat_minor": 2
}
